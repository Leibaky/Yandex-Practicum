{
 "cells": [
  {
   "cell_type": "markdown",
   "metadata": {},
   "source": [
    "## Описание проекта"
   ]
  },
  {
   "cell_type": "markdown",
   "metadata": {},
   "source": [
    "Необходимо защитить данные клиентов страховой компании «Хоть потоп». Для этого нужно разработать такой метод преобразования данных, чтобы по ним было сложно восстановить персональную информацию. "
   ]
  },
  {
   "cell_type": "markdown",
   "metadata": {},
   "source": [
    "## 1. Изучение данных из файла"
   ]
  },
  {
   "cell_type": "code",
   "execution_count": 1,
   "metadata": {},
   "outputs": [],
   "source": [
    "import numpy as np\n",
    "import pandas as pd\n",
    "from sklearn.metrics import r2_score\n",
    "import matplotlib.pyplot as plt\n",
    "%matplotlib inline"
   ]
  },
  {
   "cell_type": "code",
   "execution_count": 2,
   "metadata": {},
   "outputs": [
    {
     "data": {},
     "execution_count": 2,
     "metadata": {},
     "output_type": "execute_result"
    }
   ],
   "source": [
    "try:\n",
    "    df = pd.read_csv(\"C:/Users/dimil/OneDrive/Desktop/insurance.csv\")\n",
    "except:\n",
    "    df = pd.read_csv('/datasets/insurance.csv')\n",
    "\n",
    "df.head(10)"
   ]
  },
  {
   "cell_type": "code",
   "execution_count": 3,
   "metadata": {
    "scrolled": true
   },
   "outputs": [
    {
     "data": {},
     "execution_count": 3,
     "metadata": {},
     "output_type": "execute_result"
    }
   ],
   "source": [
    "df.describe().T"
   ]
  },
  {
   "cell_type": "code",
   "execution_count": 4,
   "metadata": {
    "scrolled": true
   },
   "outputs": [],
   "source": [
    "df.info()"
   ]
  },
  {
   "cell_type": "markdown",
   "metadata": {},
   "source": [
    "Первое знакомство с данными показывает отсутствие каких-либо пропусков или аномалий."
   ]
  },
  {
   "cell_type": "markdown",
   "metadata": {},
   "source": [
    "## 2. Умножение матриц"
   ]
  },
  {
   "cell_type": "markdown",
   "metadata": {},
   "source": [
    "Предсказания:\n",
    "\n",
    "$$\n",
    "a = Xw\n",
    "$$\n",
    "\n",
    "Задача обучения:\n",
    "\n",
    "$$\n",
    "w = \\arg\\min_w MSE(Xw, y)\n",
    "$$\n",
    "\n",
    "Формула обучения:\n",
    "\n",
    "$$\n",
    "w = (X^T X)^{-1} X^T y\n",
    "$$\n",
    "    \n",
    "Предсказания на исходных признаках: $a = Xw$. Предсказания на преобразованных признаках: $a_1 = X_1 w_1$. $X_1 = XP$, где $P$ это матрица шифрования.\n",
    "    \n",
    "Докажем, что $a = a_1$. Для этого нужно преобразовать выражения. \n",
    "    \n",
    "    \n",
    "$w_1 = (X_1^T X_1)^{-1} X_1^T y = ((XP)^T XP)^{-1} (XP)^T y = (P^T X^T XP)^{-1} P^T X^T y = P^{-1} (X^T X)^{-1} (P^T)^{-1} P^T X^T y = P^{-1} (X^T X)^{-1} X^T y$ \n",
    "\n",
    "$a_1 = X_1 P^{-1} (X^T X)^{-1} X^T y = XP P^{-1} (X^T X)^{-1} X^T y = Xw = a$\n",
    "\n",
    "Следовательно, $a = Xw = a1$, что и требовалось доказать."
   ]
  },
  {
   "cell_type": "markdown",
   "metadata": {},
   "source": [
    "## 3. Алгоритм преобразования данных для решения задачи."
   ]
  },
  {
   "cell_type": "markdown",
   "metadata": {},
   "source": [
    "Перед внесением возможных изменений в датасет, изучим признаки на наличие корреляции:"
   ]
  },
  {
   "cell_type": "code",
   "execution_count": 5,
   "metadata": {},
   "outputs": [
    {
     "data": {},
     "execution_count": 5,
     "metadata": {},
     "output_type": "execute_result"
    }
   ],
   "source": [
    "corr = df.corr()\n",
    "corr.style.background_gradient(cmap='coolwarm')"
   ]
  },
  {
   "cell_type": "markdown",
   "metadata": {},
   "source": [
    "Похоже, что возраст - это единственный признак, по которому наблюдается существенная корреляция с целевым признаком."
   ]
  },
  {
   "cell_type": "markdown",
   "metadata": {},
   "source": [
    "## 4. Применение алгоритма и оценка качества линейной регрессии"
   ]
  },
  {
   "cell_type": "markdown",
   "metadata": {},
   "source": [
    "Сначала построим регрессию, используя все доступные признаки:"
   ]
  },
  {
   "cell_type": "code",
   "execution_count": 6,
   "metadata": {},
   "outputs": [],
   "source": [
    "features = df.drop('Страховые выплаты', axis=1)\n",
    "target = df['Страховые выплаты']\n",
    "\n",
    "class LinearRegression:\n",
    "    def fit(self, train_features, train_target):\n",
    "        X = np.concatenate((np.ones((train_features.shape[0], 1)), train_features), axis=1)\n",
    "        y = train_target\n",
    "        w = np.linalg.inv(X.T.dot(X)).dot(X.T).dot(y)\n",
    "        self.w = w[1:]\n",
    "        self.w0 = w[0]\n",
    "\n",
    "    def predict(self, test_features):\n",
    "        return test_features.dot(self.w) + self.w0\n",
    "    \n",
    "model = LinearRegression()\n",
    "model.fit(features, target)\n",
    "predictions = model.predict(features)\n",
    "print(r2_score(target, predictions))"
   ]
  },
  {
   "cell_type": "markdown",
   "metadata": {},
   "source": [
    "Еще раз убедимся, что возраст является основным признаком, оказывающим влияние на целевой признак. Для этого построим регрессию по нему и любому другому признаку."
   ]
  },
  {
   "cell_type": "code",
   "execution_count": 7,
   "metadata": {},
   "outputs": [],
   "source": [
    "features_1 = df[['Возраст','Пол']]\n",
    "target_1 = df['Страховые выплаты']\n",
    "\n",
    "   \n",
    "model = LinearRegression()\n",
    "model.fit(features_1, target_1)\n",
    "predictions_1 = model.predict(features_1)\n",
    "print(r2_score(target_1, predictions_1))"
   ]
  },
  {
   "cell_type": "markdown",
   "metadata": {},
   "source": [
    "Действительно, метрика R2 практически не изменилась. Теперь закодируем наши признаки так, чтобы по ним было сложно восстановить персональную информацию клиентов. После умножения на случайную обратиимую матрицу, метрика R2 останется на том же уровне. Проверим это:"
   ]
  },
  {
   "cell_type": "code",
   "execution_count": 8,
   "metadata": {},
   "outputs": [],
   "source": [
    "encoder_matrix = np.random.normal(size=(4, 4))"
   ]
  },
  {
   "cell_type": "code",
   "execution_count": 9,
   "metadata": {},
   "outputs": [],
   "source": [
    "features_encoded = features.dot(encoder_matrix)"
   ]
  },
  {
   "cell_type": "code",
   "execution_count": 10,
   "metadata": {},
   "outputs": [],
   "source": [
    "model = LinearRegression()\n",
    "model.fit(features_encoded, target)\n",
    "predictions_encoded = model.predict(features_encoded)\n",
    "print(r2_score(target, predictions_encoded))"
   ]
  },
  {
   "cell_type": "markdown",
   "metadata": {},
   "source": [
    "Версия о неизменности R2 подтвердилась. Таким образом, данные будут надежно закодированы, а качество регрессии не изменится."
   ]
  }
 ],
 "metadata": {
  "ExecuteTimeLog": [
   {
    "duration": 1724,
    "start_time": "2022-06-06T04:22:21.569Z"
   },
   {
    "duration": 147,
    "start_time": "2022-06-06T04:22:23.296Z"
   },
   {
    "duration": 24,
    "start_time": "2022-06-06T04:22:23.444Z"
   },
   {
    "duration": 8,
    "start_time": "2022-06-06T04:22:23.470Z"
   },
   {
    "duration": 62,
    "start_time": "2022-06-06T04:22:23.480Z"
   },
   {
    "duration": 84,
    "start_time": "2022-06-06T04:22:23.544Z"
   },
   {
    "duration": 113,
    "start_time": "2022-06-06T04:22:23.630Z"
   },
   {
    "duration": 3,
    "start_time": "2022-06-06T04:22:23.928Z"
   },
   {
    "duration": 9,
    "start_time": "2022-06-06T04:22:23.933Z"
   },
   {
    "duration": 8,
    "start_time": "2022-06-06T04:22:23.944Z"
   },
   {
    "duration": 1209,
    "start_time": "2022-06-09T15:16:05.502Z"
   },
   {
    "duration": 47,
    "start_time": "2022-06-09T15:16:06.713Z"
   },
   {
    "duration": 27,
    "start_time": "2022-06-09T15:16:06.763Z"
   },
   {
    "duration": 13,
    "start_time": "2022-06-09T15:16:06.791Z"
   },
   {
    "duration": 74,
    "start_time": "2022-06-09T15:16:06.807Z"
   },
   {
    "duration": 78,
    "start_time": "2022-06-09T15:16:06.883Z"
   },
   {
    "duration": 106,
    "start_time": "2022-06-09T15:16:06.964Z"
   },
   {
    "duration": 80,
    "start_time": "2022-06-09T15:16:07.074Z"
   },
   {
    "duration": 150,
    "start_time": "2022-06-09T15:16:07.156Z"
   },
   {
    "duration": 41,
    "start_time": "2022-06-09T15:16:07.309Z"
   }
  ],
  "kernelspec": {
   "display_name": "Python 3",
   "language": "python",
   "name": "python3"
  },
  "language_info": {
   "codemirror_mode": {
    "name": "ipython",
    "version": 3
   },
   "file_extension": ".py",
   "mimetype": "text/x-python",
   "name": "python",
   "nbconvert_exporter": "python",
   "pygments_lexer": "ipython3",
   "version": "3.8.5"
  },
  "toc": {
   "base_numbering": 1,
   "nav_menu": {},
   "number_sections": true,
   "sideBar": true,
   "skip_h1_title": true,
   "title_cell": "Table of Contents",
   "title_sidebar": "Contents",
   "toc_cell": false,
   "toc_position": {},
   "toc_section_display": true,
   "toc_window_display": false
  }
 },
 "nbformat": 4,
 "nbformat_minor": 4
}
