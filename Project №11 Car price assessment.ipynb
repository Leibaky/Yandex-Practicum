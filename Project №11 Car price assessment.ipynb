{
 "cells": [
  {
   "cell_type": "markdown",
   "metadata": {},
   "source": [
    "## Описание проекта"
   ]
  },
  {
   "cell_type": "markdown",
   "metadata": {},
   "source": [
    "Сервис по продаже автомобилей с пробегом «Не бит, не крашен» разрабатывает приложение для привлечения новых клиентов. В нём можно быстро узнать рыночную стоимость своего автомобиля. Используя исторические данные, необходимо построить модель для определения стоимости."
   ]
  },
  {
   "cell_type": "markdown",
   "metadata": {},
   "source": [
    "## 1. Изучение и подготовка данных из файла"
   ]
  },
  {
   "cell_type": "code",
   "execution_count": 1,
   "metadata": {},
   "outputs": [],
   "source": [
    "import pandas as pd \n",
    "import numpy as np\n",
    "import lightgbm as lgb\n",
    "from catboost import CatBoostRegressor\n",
    "from scipy import stats as st\n",
    "from sklearn import *\n",
    "from sklearn.ensemble import RandomForestRegressor\n",
    "from sklearn.metrics import accuracy_score\n",
    "from sklearn.model_selection import train_test_split\n",
    "import matplotlib.pyplot as plt\n",
    "from sklearn.metrics import mean_squared_error\n",
    "from catboost.utils import eval_metric\n",
    "from catboost import Pool\n",
    "from sklearn.preprocessing import LabelEncoder\n",
    "from sklearn.model_selection import RandomizedSearchCV\n",
    "from time import time\n",
    "import xgboost as xgb\n",
    "import timeit"
   ]
  },
  {
   "cell_type": "markdown",
   "metadata": {},
   "source": [
    "Изучим имеющиеся исторические данные:"
   ]
  },
  {
   "cell_type": "code",
   "execution_count": 2,
   "metadata": {},
   "outputs": [
    {
     "data": {
      "text/html": [
       "<div>\n",
       "<style scoped>\n",
       "    .dataframe tbody tr th:only-of-type {\n",
       "        vertical-align: middle;\n",
       "    }\n",
       "\n",
       "    .dataframe tbody tr th {\n",
       "        vertical-align: top;\n",
       "    }\n",
       "\n",
       "    .dataframe thead th {\n",
       "        text-align: right;\n",
       "    }\n",
       "</style>\n",
       "<table border=\"1\" class=\"dataframe\">\n",
       "  <thead>\n",
       "    <tr style=\"text-align: right;\">\n",
       "      <th></th>\n",
       "      <th>DateCrawled</th>\n",
       "      <th>Price</th>\n",
       "      <th>VehicleType</th>\n",
       "      <th>RegistrationYear</th>\n",
       "      <th>Gearbox</th>\n",
       "      <th>Power</th>\n",
       "      <th>Model</th>\n",
       "      <th>Kilometer</th>\n",
       "      <th>RegistrationMonth</th>\n",
       "      <th>FuelType</th>\n",
       "      <th>Brand</th>\n",
       "      <th>NotRepaired</th>\n",
       "      <th>DateCreated</th>\n",
       "      <th>NumberOfPictures</th>\n",
       "      <th>PostalCode</th>\n",
       "      <th>LastSeen</th>\n",
       "    </tr>\n",
       "  </thead>\n",
       "  <tbody>\n",
       "    <tr>\n",
       "      <th>0</th>\n",
       "      <td>2016-03-24 11:52:17</td>\n",
       "      <td>480</td>\n",
       "      <td>NaN</td>\n",
       "      <td>1993</td>\n",
       "      <td>manual</td>\n",
       "      <td>0</td>\n",
       "      <td>golf</td>\n",
       "      <td>150000</td>\n",
       "      <td>0</td>\n",
       "      <td>petrol</td>\n",
       "      <td>volkswagen</td>\n",
       "      <td>NaN</td>\n",
       "      <td>2016-03-24 00:00:00</td>\n",
       "      <td>0</td>\n",
       "      <td>70435</td>\n",
       "      <td>2016-04-07 03:16:57</td>\n",
       "    </tr>\n",
       "    <tr>\n",
       "      <th>1</th>\n",
       "      <td>2016-03-24 10:58:45</td>\n",
       "      <td>18300</td>\n",
       "      <td>coupe</td>\n",
       "      <td>2011</td>\n",
       "      <td>manual</td>\n",
       "      <td>190</td>\n",
       "      <td>NaN</td>\n",
       "      <td>125000</td>\n",
       "      <td>5</td>\n",
       "      <td>gasoline</td>\n",
       "      <td>audi</td>\n",
       "      <td>yes</td>\n",
       "      <td>2016-03-24 00:00:00</td>\n",
       "      <td>0</td>\n",
       "      <td>66954</td>\n",
       "      <td>2016-04-07 01:46:50</td>\n",
       "    </tr>\n",
       "    <tr>\n",
       "      <th>2</th>\n",
       "      <td>2016-03-14 12:52:21</td>\n",
       "      <td>9800</td>\n",
       "      <td>suv</td>\n",
       "      <td>2004</td>\n",
       "      <td>auto</td>\n",
       "      <td>163</td>\n",
       "      <td>grand</td>\n",
       "      <td>125000</td>\n",
       "      <td>8</td>\n",
       "      <td>gasoline</td>\n",
       "      <td>jeep</td>\n",
       "      <td>NaN</td>\n",
       "      <td>2016-03-14 00:00:00</td>\n",
       "      <td>0</td>\n",
       "      <td>90480</td>\n",
       "      <td>2016-04-05 12:47:46</td>\n",
       "    </tr>\n",
       "    <tr>\n",
       "      <th>3</th>\n",
       "      <td>2016-03-17 16:54:04</td>\n",
       "      <td>1500</td>\n",
       "      <td>small</td>\n",
       "      <td>2001</td>\n",
       "      <td>manual</td>\n",
       "      <td>75</td>\n",
       "      <td>golf</td>\n",
       "      <td>150000</td>\n",
       "      <td>6</td>\n",
       "      <td>petrol</td>\n",
       "      <td>volkswagen</td>\n",
       "      <td>no</td>\n",
       "      <td>2016-03-17 00:00:00</td>\n",
       "      <td>0</td>\n",
       "      <td>91074</td>\n",
       "      <td>2016-03-17 17:40:17</td>\n",
       "    </tr>\n",
       "    <tr>\n",
       "      <th>4</th>\n",
       "      <td>2016-03-31 17:25:20</td>\n",
       "      <td>3600</td>\n",
       "      <td>small</td>\n",
       "      <td>2008</td>\n",
       "      <td>manual</td>\n",
       "      <td>69</td>\n",
       "      <td>fabia</td>\n",
       "      <td>90000</td>\n",
       "      <td>7</td>\n",
       "      <td>gasoline</td>\n",
       "      <td>skoda</td>\n",
       "      <td>no</td>\n",
       "      <td>2016-03-31 00:00:00</td>\n",
       "      <td>0</td>\n",
       "      <td>60437</td>\n",
       "      <td>2016-04-06 10:17:21</td>\n",
       "    </tr>\n",
       "    <tr>\n",
       "      <th>5</th>\n",
       "      <td>2016-04-04 17:36:23</td>\n",
       "      <td>650</td>\n",
       "      <td>sedan</td>\n",
       "      <td>1995</td>\n",
       "      <td>manual</td>\n",
       "      <td>102</td>\n",
       "      <td>3er</td>\n",
       "      <td>150000</td>\n",
       "      <td>10</td>\n",
       "      <td>petrol</td>\n",
       "      <td>bmw</td>\n",
       "      <td>yes</td>\n",
       "      <td>2016-04-04 00:00:00</td>\n",
       "      <td>0</td>\n",
       "      <td>33775</td>\n",
       "      <td>2016-04-06 19:17:07</td>\n",
       "    </tr>\n",
       "    <tr>\n",
       "      <th>6</th>\n",
       "      <td>2016-04-01 20:48:51</td>\n",
       "      <td>2200</td>\n",
       "      <td>convertible</td>\n",
       "      <td>2004</td>\n",
       "      <td>manual</td>\n",
       "      <td>109</td>\n",
       "      <td>2_reihe</td>\n",
       "      <td>150000</td>\n",
       "      <td>8</td>\n",
       "      <td>petrol</td>\n",
       "      <td>peugeot</td>\n",
       "      <td>no</td>\n",
       "      <td>2016-04-01 00:00:00</td>\n",
       "      <td>0</td>\n",
       "      <td>67112</td>\n",
       "      <td>2016-04-05 18:18:39</td>\n",
       "    </tr>\n",
       "    <tr>\n",
       "      <th>7</th>\n",
       "      <td>2016-03-21 18:54:38</td>\n",
       "      <td>0</td>\n",
       "      <td>sedan</td>\n",
       "      <td>1980</td>\n",
       "      <td>manual</td>\n",
       "      <td>50</td>\n",
       "      <td>other</td>\n",
       "      <td>40000</td>\n",
       "      <td>7</td>\n",
       "      <td>petrol</td>\n",
       "      <td>volkswagen</td>\n",
       "      <td>no</td>\n",
       "      <td>2016-03-21 00:00:00</td>\n",
       "      <td>0</td>\n",
       "      <td>19348</td>\n",
       "      <td>2016-03-25 16:47:58</td>\n",
       "    </tr>\n",
       "    <tr>\n",
       "      <th>8</th>\n",
       "      <td>2016-04-04 23:42:13</td>\n",
       "      <td>14500</td>\n",
       "      <td>bus</td>\n",
       "      <td>2014</td>\n",
       "      <td>manual</td>\n",
       "      <td>125</td>\n",
       "      <td>c_max</td>\n",
       "      <td>30000</td>\n",
       "      <td>8</td>\n",
       "      <td>petrol</td>\n",
       "      <td>ford</td>\n",
       "      <td>NaN</td>\n",
       "      <td>2016-04-04 00:00:00</td>\n",
       "      <td>0</td>\n",
       "      <td>94505</td>\n",
       "      <td>2016-04-04 23:42:13</td>\n",
       "    </tr>\n",
       "    <tr>\n",
       "      <th>9</th>\n",
       "      <td>2016-03-17 10:53:50</td>\n",
       "      <td>999</td>\n",
       "      <td>small</td>\n",
       "      <td>1998</td>\n",
       "      <td>manual</td>\n",
       "      <td>101</td>\n",
       "      <td>golf</td>\n",
       "      <td>150000</td>\n",
       "      <td>0</td>\n",
       "      <td>NaN</td>\n",
       "      <td>volkswagen</td>\n",
       "      <td>NaN</td>\n",
       "      <td>2016-03-17 00:00:00</td>\n",
       "      <td>0</td>\n",
       "      <td>27472</td>\n",
       "      <td>2016-03-31 17:17:06</td>\n",
       "    </tr>\n",
       "  </tbody>\n",
       "</table>\n",
       "</div>"
      ],
      "text/plain": [
       "           DateCrawled  Price  VehicleType  RegistrationYear Gearbox  Power  \\\n",
       "0  2016-03-24 11:52:17    480          NaN              1993  manual      0   \n",
       "1  2016-03-24 10:58:45  18300        coupe              2011  manual    190   \n",
       "2  2016-03-14 12:52:21   9800          suv              2004    auto    163   \n",
       "3  2016-03-17 16:54:04   1500        small              2001  manual     75   \n",
       "4  2016-03-31 17:25:20   3600        small              2008  manual     69   \n",
       "5  2016-04-04 17:36:23    650        sedan              1995  manual    102   \n",
       "6  2016-04-01 20:48:51   2200  convertible              2004  manual    109   \n",
       "7  2016-03-21 18:54:38      0        sedan              1980  manual     50   \n",
       "8  2016-04-04 23:42:13  14500          bus              2014  manual    125   \n",
       "9  2016-03-17 10:53:50    999        small              1998  manual    101   \n",
       "\n",
       "     Model  Kilometer  RegistrationMonth  FuelType       Brand NotRepaired  \\\n",
       "0     golf     150000                  0    petrol  volkswagen         NaN   \n",
       "1      NaN     125000                  5  gasoline        audi         yes   \n",
       "2    grand     125000                  8  gasoline        jeep         NaN   \n",
       "3     golf     150000                  6    petrol  volkswagen          no   \n",
       "4    fabia      90000                  7  gasoline       skoda          no   \n",
       "5      3er     150000                 10    petrol         bmw         yes   \n",
       "6  2_reihe     150000                  8    petrol     peugeot          no   \n",
       "7    other      40000                  7    petrol  volkswagen          no   \n",
       "8    c_max      30000                  8    petrol        ford         NaN   \n",
       "9     golf     150000                  0       NaN  volkswagen         NaN   \n",
       "\n",
       "           DateCreated  NumberOfPictures  PostalCode             LastSeen  \n",
       "0  2016-03-24 00:00:00                 0       70435  2016-04-07 03:16:57  \n",
       "1  2016-03-24 00:00:00                 0       66954  2016-04-07 01:46:50  \n",
       "2  2016-03-14 00:00:00                 0       90480  2016-04-05 12:47:46  \n",
       "3  2016-03-17 00:00:00                 0       91074  2016-03-17 17:40:17  \n",
       "4  2016-03-31 00:00:00                 0       60437  2016-04-06 10:17:21  \n",
       "5  2016-04-04 00:00:00                 0       33775  2016-04-06 19:17:07  \n",
       "6  2016-04-01 00:00:00                 0       67112  2016-04-05 18:18:39  \n",
       "7  2016-03-21 00:00:00                 0       19348  2016-03-25 16:47:58  \n",
       "8  2016-04-04 00:00:00                 0       94505  2016-04-04 23:42:13  \n",
       "9  2016-03-17 00:00:00                 0       27472  2016-03-31 17:17:06  "
      ]
     },
     "execution_count": 2,
     "metadata": {},
     "output_type": "execute_result"
    }
   ],
   "source": [
    "try:\n",
    "    df = pd.read_csv(\"C:/Users/dimil/OneDrive/Desktop/autos.csv\")\n",
    "except:\n",
    "    df = pd.read_csv('/datasets/autos.csv')\n",
    "\n",
    "df.head(10)"
   ]
  },
  {
   "cell_type": "code",
   "execution_count": 3,
   "metadata": {},
   "outputs": [
    {
     "data": {
      "text/html": [
       "<div>\n",
       "<style scoped>\n",
       "    .dataframe tbody tr th:only-of-type {\n",
       "        vertical-align: middle;\n",
       "    }\n",
       "\n",
       "    .dataframe tbody tr th {\n",
       "        vertical-align: top;\n",
       "    }\n",
       "\n",
       "    .dataframe thead th {\n",
       "        text-align: right;\n",
       "    }\n",
       "</style>\n",
       "<table border=\"1\" class=\"dataframe\">\n",
       "  <thead>\n",
       "    <tr style=\"text-align: right;\">\n",
       "      <th></th>\n",
       "      <th>count</th>\n",
       "      <th>mean</th>\n",
       "      <th>std</th>\n",
       "      <th>min</th>\n",
       "      <th>25%</th>\n",
       "      <th>50%</th>\n",
       "      <th>75%</th>\n",
       "      <th>max</th>\n",
       "    </tr>\n",
       "  </thead>\n",
       "  <tbody>\n",
       "    <tr>\n",
       "      <th>Price</th>\n",
       "      <td>354369.0</td>\n",
       "      <td>4416.656776</td>\n",
       "      <td>4514.158514</td>\n",
       "      <td>0.0</td>\n",
       "      <td>1050.0</td>\n",
       "      <td>2700.0</td>\n",
       "      <td>6400.0</td>\n",
       "      <td>20000.0</td>\n",
       "    </tr>\n",
       "    <tr>\n",
       "      <th>RegistrationYear</th>\n",
       "      <td>354369.0</td>\n",
       "      <td>2004.234448</td>\n",
       "      <td>90.227958</td>\n",
       "      <td>1000.0</td>\n",
       "      <td>1999.0</td>\n",
       "      <td>2003.0</td>\n",
       "      <td>2008.0</td>\n",
       "      <td>9999.0</td>\n",
       "    </tr>\n",
       "    <tr>\n",
       "      <th>Power</th>\n",
       "      <td>354369.0</td>\n",
       "      <td>110.094337</td>\n",
       "      <td>189.850405</td>\n",
       "      <td>0.0</td>\n",
       "      <td>69.0</td>\n",
       "      <td>105.0</td>\n",
       "      <td>143.0</td>\n",
       "      <td>20000.0</td>\n",
       "    </tr>\n",
       "    <tr>\n",
       "      <th>Kilometer</th>\n",
       "      <td>354369.0</td>\n",
       "      <td>128211.172535</td>\n",
       "      <td>37905.341530</td>\n",
       "      <td>5000.0</td>\n",
       "      <td>125000.0</td>\n",
       "      <td>150000.0</td>\n",
       "      <td>150000.0</td>\n",
       "      <td>150000.0</td>\n",
       "    </tr>\n",
       "    <tr>\n",
       "      <th>RegistrationMonth</th>\n",
       "      <td>354369.0</td>\n",
       "      <td>5.714645</td>\n",
       "      <td>3.726421</td>\n",
       "      <td>0.0</td>\n",
       "      <td>3.0</td>\n",
       "      <td>6.0</td>\n",
       "      <td>9.0</td>\n",
       "      <td>12.0</td>\n",
       "    </tr>\n",
       "    <tr>\n",
       "      <th>NumberOfPictures</th>\n",
       "      <td>354369.0</td>\n",
       "      <td>0.000000</td>\n",
       "      <td>0.000000</td>\n",
       "      <td>0.0</td>\n",
       "      <td>0.0</td>\n",
       "      <td>0.0</td>\n",
       "      <td>0.0</td>\n",
       "      <td>0.0</td>\n",
       "    </tr>\n",
       "    <tr>\n",
       "      <th>PostalCode</th>\n",
       "      <td>354369.0</td>\n",
       "      <td>50508.689087</td>\n",
       "      <td>25783.096248</td>\n",
       "      <td>1067.0</td>\n",
       "      <td>30165.0</td>\n",
       "      <td>49413.0</td>\n",
       "      <td>71083.0</td>\n",
       "      <td>99998.0</td>\n",
       "    </tr>\n",
       "  </tbody>\n",
       "</table>\n",
       "</div>"
      ],
      "text/plain": [
       "                      count           mean           std     min       25%  \\\n",
       "Price              354369.0    4416.656776   4514.158514     0.0    1050.0   \n",
       "RegistrationYear   354369.0    2004.234448     90.227958  1000.0    1999.0   \n",
       "Power              354369.0     110.094337    189.850405     0.0      69.0   \n",
       "Kilometer          354369.0  128211.172535  37905.341530  5000.0  125000.0   \n",
       "RegistrationMonth  354369.0       5.714645      3.726421     0.0       3.0   \n",
       "NumberOfPictures   354369.0       0.000000      0.000000     0.0       0.0   \n",
       "PostalCode         354369.0   50508.689087  25783.096248  1067.0   30165.0   \n",
       "\n",
       "                        50%       75%       max  \n",
       "Price                2700.0    6400.0   20000.0  \n",
       "RegistrationYear     2003.0    2008.0    9999.0  \n",
       "Power                 105.0     143.0   20000.0  \n",
       "Kilometer          150000.0  150000.0  150000.0  \n",
       "RegistrationMonth       6.0       9.0      12.0  \n",
       "NumberOfPictures        0.0       0.0       0.0  \n",
       "PostalCode          49413.0   71083.0   99998.0  "
      ]
     },
     "execution_count": 3,
     "metadata": {},
     "output_type": "execute_result"
    }
   ],
   "source": [
    "df.describe().T"
   ]
  },
  {
   "cell_type": "code",
   "execution_count": 4,
   "metadata": {},
   "outputs": [
    {
     "name": "stdout",
     "output_type": "stream",
     "text": [
      "<class 'pandas.core.frame.DataFrame'>\n",
      "RangeIndex: 354369 entries, 0 to 354368\n",
      "Data columns (total 16 columns):\n",
      " #   Column             Non-Null Count   Dtype \n",
      "---  ------             --------------   ----- \n",
      " 0   DateCrawled        354369 non-null  object\n",
      " 1   Price              354369 non-null  int64 \n",
      " 2   VehicleType        316879 non-null  object\n",
      " 3   RegistrationYear   354369 non-null  int64 \n",
      " 4   Gearbox            334536 non-null  object\n",
      " 5   Power              354369 non-null  int64 \n",
      " 6   Model              334664 non-null  object\n",
      " 7   Kilometer          354369 non-null  int64 \n",
      " 8   RegistrationMonth  354369 non-null  int64 \n",
      " 9   FuelType           321474 non-null  object\n",
      " 10  Brand              354369 non-null  object\n",
      " 11  NotRepaired        283215 non-null  object\n",
      " 12  DateCreated        354369 non-null  object\n",
      " 13  NumberOfPictures   354369 non-null  int64 \n",
      " 14  PostalCode         354369 non-null  int64 \n",
      " 15  LastSeen           354369 non-null  object\n",
      "dtypes: int64(7), object(9)\n",
      "memory usage: 43.3+ MB\n"
     ]
    }
   ],
   "source": [
    "df.info()"
   ]
  },
  {
   "cell_type": "markdown",
   "metadata": {},
   "source": [
    "Наблюдается значительное количество пропущенных значений по целому ряду признаков. Количество фотографий автомобиля равно 0 для всех объектов."
   ]
  },
  {
   "cell_type": "markdown",
   "metadata": {},
   "source": [
    "Проверим временные границы создания объявлений:"
   ]
  },
  {
   "cell_type": "code",
   "execution_count": 5,
   "metadata": {},
   "outputs": [
    {
     "data": {
      "text/plain": [
       "'2016-04-07 00:00:00'"
      ]
     },
     "execution_count": 5,
     "metadata": {},
     "output_type": "execute_result"
    }
   ],
   "source": [
    "df['DateCreated'].max()"
   ]
  },
  {
   "cell_type": "code",
   "execution_count": 6,
   "metadata": {},
   "outputs": [
    {
     "data": {
      "text/plain": [
       "'2014-03-10 00:00:00'"
      ]
     },
     "execution_count": 6,
     "metadata": {},
     "output_type": "execute_result"
    }
   ],
   "source": [
    "df['DateCreated'].min()"
   ]
  },
  {
   "cell_type": "markdown",
   "metadata": {},
   "source": [
    "Заменим отсутствующие значения для каждого из столбцов:"
   ]
  },
  {
   "cell_type": "code",
   "execution_count": 7,
   "metadata": {},
   "outputs": [],
   "source": [
    "df['VehicleType'] = df['VehicleType'].fillna('unknown_type')\n",
    "df['Gearbox'] = df['Gearbox'].fillna('unknown_type')\n",
    "df['Model'] = df['Model'].fillna('unknown_model')\n",
    "df['FuelType'] = df['FuelType'].fillna('unknown_fuel')\n",
    "df['NotRepaired'] = df['NotRepaired'].fillna('unknown')"
   ]
  },
  {
   "cell_type": "markdown",
   "metadata": {},
   "source": [
    "Перед обучением моделей удалим имеющиеся в датасете выбросы: "
   ]
  },
  {
   "cell_type": "code",
   "execution_count": 8,
   "metadata": {},
   "outputs": [
    {
     "data": {
      "text/plain": [
       "<AxesSubplot:>"
      ]
     },
     "execution_count": 8,
     "metadata": {},
     "output_type": "execute_result"
    },
    {
     "data": {
      "image/png": "[encoded data removed]",
      "text/plain": [
       "<Figure size 720x720 with 1 Axes>"
      ]
     },
     "metadata": {
      "needs_background": "light"
     },
     "output_type": "display_data"
    }
   ],
   "source": [
    "df.boxplot('Price',figsize=(10,10))"
   ]
  },
  {
   "cell_type": "code",
   "execution_count": 9,
   "metadata": {},
   "outputs": [],
   "source": [
    "df.drop(df[df['Price'] < 1050].index, inplace=True)"
   ]
  },
  {
   "cell_type": "code",
   "execution_count": 10,
   "metadata": {},
   "outputs": [
    {
     "data": {
      "text/plain": [
       "<AxesSubplot:>"
      ]
     },
     "execution_count": 10,
     "metadata": {},
     "output_type": "execute_result"
    },
    {
     "data": {
      "image/png": "[encoded data removed]",
      "text/plain": [
       "<Figure size 720x720 with 1 Axes>"
      ]
     },
     "metadata": {
      "needs_background": "light"
     },
     "output_type": "display_data"
    }
   ],
   "source": [
    "df.boxplot('RegistrationYear',figsize=(10,10))"
   ]
  },
  {
   "cell_type": "code",
   "execution_count": 11,
   "metadata": {},
   "outputs": [],
   "source": [
    "df.drop(df[(df['RegistrationYear'] > 2016)|(df['RegistrationYear'] < 1950)].index, inplace=True)"
   ]
  },
  {
   "cell_type": "code",
   "execution_count": 12,
   "metadata": {},
   "outputs": [
    {
     "data": {
      "text/plain": [
       "<AxesSubplot:>"
      ]
     },
     "execution_count": 12,
     "metadata": {},
     "output_type": "execute_result"
    },
    {
     "data": {
      "image/png": "[encoded data removed]",
      "text/plain": [
       "<Figure size 720x720 with 1 Axes>"
      ]
     },
     "metadata": {
      "needs_background": "light"
     },
     "output_type": "display_data"
    }
   ],
   "source": [
    "df.boxplot('Power',figsize=(10,10))"
   ]
  },
  {
   "cell_type": "code",
   "execution_count": 13,
   "metadata": {},
   "outputs": [],
   "source": [
    "df.drop(df[(df['Power'] > 1000)|(df['Power'] < 100)].index, inplace=True)"
   ]
  },
  {
   "cell_type": "code",
   "execution_count": 14,
   "metadata": {},
   "outputs": [
    {
     "data": {
      "text/plain": [
       "<AxesSubplot:>"
      ]
     },
     "execution_count": 14,
     "metadata": {},
     "output_type": "execute_result"
    },
    {
     "data": {
      "image/png": "[encoded data removed]",
      "text/plain": [
       "<Figure size 720x720 with 1 Axes>"
      ]
     },
     "metadata": {
      "needs_background": "light"
     },
     "output_type": "display_data"
    }
   ],
   "source": [
    "df.boxplot('Kilometer',figsize=(10,10))"
   ]
  },
  {
   "cell_type": "code",
   "execution_count": 15,
   "metadata": {},
   "outputs": [
    {
     "data": {
      "text/plain": [
       "<AxesSubplot:>"
      ]
     },
     "execution_count": 15,
     "metadata": {},
     "output_type": "execute_result"
    },
    {
     "data": {
      "image/png": "[encoded data removed]",
      "text/plain": [
       "<Figure size 720x720 with 1 Axes>"
      ]
     },
     "metadata": {
      "needs_background": "light"
     },
     "output_type": "display_data"
    }
   ],
   "source": [
    "df.boxplot('RegistrationMonth',figsize=(10,10))"
   ]
  },
  {
   "cell_type": "code",
   "execution_count": 16,
   "metadata": {},
   "outputs": [],
   "source": [
    "df.drop(df[df['RegistrationMonth'] == 0].index, inplace=True)"
   ]
  },
  {
   "cell_type": "code",
   "execution_count": 17,
   "metadata": {},
   "outputs": [],
   "source": [
    "df.drop(df[(df['RegistrationMonth'] > 4)&(df['RegistrationYear'] == 2016)].index, inplace=True)"
   ]
  },
  {
   "cell_type": "code",
   "execution_count": 18,
   "metadata": {},
   "outputs": [
    {
     "data": {
      "text/plain": [
       "<AxesSubplot:>"
      ]
     },
     "execution_count": 18,
     "metadata": {},
     "output_type": "execute_result"
    },
    {
     "data": {
      "image/png": "[encoded data removed]",
      "text/plain": [
       "<Figure size 720x720 with 1 Axes>"
      ]
     },
     "metadata": {
      "needs_background": "light"
     },
     "output_type": "display_data"
    }
   ],
   "source": [
    "df.boxplot('PostalCode',figsize=(10,10))"
   ]
  },
  {
   "cell_type": "code",
   "execution_count": 19,
   "metadata": {},
   "outputs": [
    {
     "data": {
      "text/html": [
       "<div>\n",
       "<style scoped>\n",
       "    .dataframe tbody tr th:only-of-type {\n",
       "        vertical-align: middle;\n",
       "    }\n",
       "\n",
       "    .dataframe tbody tr th {\n",
       "        vertical-align: top;\n",
       "    }\n",
       "\n",
       "    .dataframe thead th {\n",
       "        text-align: right;\n",
       "    }\n",
       "</style>\n",
       "<table border=\"1\" class=\"dataframe\">\n",
       "  <thead>\n",
       "    <tr style=\"text-align: right;\">\n",
       "      <th></th>\n",
       "      <th>Price</th>\n",
       "      <th>RegistrationYear</th>\n",
       "      <th>Power</th>\n",
       "      <th>Kilometer</th>\n",
       "      <th>RegistrationMonth</th>\n",
       "      <th>NumberOfPictures</th>\n",
       "      <th>PostalCode</th>\n",
       "    </tr>\n",
       "  </thead>\n",
       "  <tbody>\n",
       "    <tr>\n",
       "      <th>count</th>\n",
       "      <td>161073.000000</td>\n",
       "      <td>161073.000000</td>\n",
       "      <td>161073.000000</td>\n",
       "      <td>161073.000000</td>\n",
       "      <td>161073.000000</td>\n",
       "      <td>161073.0</td>\n",
       "      <td>161073.000000</td>\n",
       "    </tr>\n",
       "    <tr>\n",
       "      <th>mean</th>\n",
       "      <td>6906.467633</td>\n",
       "      <td>2004.106585</td>\n",
       "      <td>151.558573</td>\n",
       "      <td>129891.974446</td>\n",
       "      <td>6.435374</td>\n",
       "      <td>0.0</td>\n",
       "      <td>52479.861994</td>\n",
       "    </tr>\n",
       "    <tr>\n",
       "      <th>std</th>\n",
       "      <td>4876.451279</td>\n",
       "      <td>5.600696</td>\n",
       "      <td>48.987590</td>\n",
       "      <td>34986.305161</td>\n",
       "      <td>3.349434</td>\n",
       "      <td>0.0</td>\n",
       "      <td>25895.546934</td>\n",
       "    </tr>\n",
       "    <tr>\n",
       "      <th>min</th>\n",
       "      <td>1050.000000</td>\n",
       "      <td>1950.000000</td>\n",
       "      <td>100.000000</td>\n",
       "      <td>5000.000000</td>\n",
       "      <td>1.000000</td>\n",
       "      <td>0.0</td>\n",
       "      <td>1067.000000</td>\n",
       "    </tr>\n",
       "    <tr>\n",
       "      <th>25%</th>\n",
       "      <td>2899.000000</td>\n",
       "      <td>2001.000000</td>\n",
       "      <td>116.000000</td>\n",
       "      <td>125000.000000</td>\n",
       "      <td>4.000000</td>\n",
       "      <td>0.0</td>\n",
       "      <td>31840.000000</td>\n",
       "    </tr>\n",
       "    <tr>\n",
       "      <th>50%</th>\n",
       "      <td>5500.000000</td>\n",
       "      <td>2005.000000</td>\n",
       "      <td>140.000000</td>\n",
       "      <td>150000.000000</td>\n",
       "      <td>6.000000</td>\n",
       "      <td>0.0</td>\n",
       "      <td>52068.000000</td>\n",
       "    </tr>\n",
       "    <tr>\n",
       "      <th>75%</th>\n",
       "      <td>9900.000000</td>\n",
       "      <td>2008.000000</td>\n",
       "      <td>170.000000</td>\n",
       "      <td>150000.000000</td>\n",
       "      <td>9.000000</td>\n",
       "      <td>0.0</td>\n",
       "      <td>73434.000000</td>\n",
       "    </tr>\n",
       "    <tr>\n",
       "      <th>max</th>\n",
       "      <td>20000.000000</td>\n",
       "      <td>2016.000000</td>\n",
       "      <td>999.000000</td>\n",
       "      <td>150000.000000</td>\n",
       "      <td>12.000000</td>\n",
       "      <td>0.0</td>\n",
       "      <td>99998.000000</td>\n",
       "    </tr>\n",
       "  </tbody>\n",
       "</table>\n",
       "</div>"
      ],
      "text/plain": [
       "               Price  RegistrationYear          Power      Kilometer  \\\n",
       "count  161073.000000     161073.000000  161073.000000  161073.000000   \n",
       "mean     6906.467633       2004.106585     151.558573  129891.974446   \n",
       "std      4876.451279          5.600696      48.987590   34986.305161   \n",
       "min      1050.000000       1950.000000     100.000000    5000.000000   \n",
       "25%      2899.000000       2001.000000     116.000000  125000.000000   \n",
       "50%      5500.000000       2005.000000     140.000000  150000.000000   \n",
       "75%      9900.000000       2008.000000     170.000000  150000.000000   \n",
       "max     20000.000000       2016.000000     999.000000  150000.000000   \n",
       "\n",
       "       RegistrationMonth  NumberOfPictures     PostalCode  \n",
       "count      161073.000000          161073.0  161073.000000  \n",
       "mean            6.435374               0.0   52479.861994  \n",
       "std             3.349434               0.0   25895.546934  \n",
       "min             1.000000               0.0    1067.000000  \n",
       "25%             4.000000               0.0   31840.000000  \n",
       "50%             6.000000               0.0   52068.000000  \n",
       "75%             9.000000               0.0   73434.000000  \n",
       "max            12.000000               0.0   99998.000000  "
      ]
     },
     "execution_count": 19,
     "metadata": {},
     "output_type": "execute_result"
    }
   ],
   "source": [
    "df.describe()"
   ]
  },
  {
   "cell_type": "code",
   "execution_count": 20,
   "metadata": {},
   "outputs": [
    {
     "data": {},
     "execution_count": 20,
     "metadata": {},
     "output_type": "execute_result"
    }
   ],
   "source": [
    "#КОД РЕВЬЮЕРА\n",
    "\n",
    "df.describe()"
   ]
  },
  {
   "cell_type": "markdown",
   "metadata": {},
   "source": [
    "Оставим для модели только необходимые признаки:"
   ]
  },
  {
   "cell_type": "code",
   "execution_count": 21,
   "metadata": {},
   "outputs": [],
   "source": [
    "df = df.drop(['NumberOfPictures','DateCrawled','DateCreated','LastSeen'], axis=1)"
   ]
  },
  {
   "cell_type": "markdown",
   "metadata": {},
   "source": [
    "## 2. Обучение моделей"
   ]
  },
  {
   "cell_type": "markdown",
   "metadata": {},
   "source": [
    "Зададим целевой признак и признаки, а затем разобъем выборку на обучающую и тестовую."
   ]
  },
  {
   "cell_type": "code",
   "execution_count": 22,
   "metadata": {},
   "outputs": [],
   "source": [
    "y = df['Price']\n",
    "X = df.drop(['Price'], axis=1)\n",
    "\n",
    "X_train,X_test,y_train,y_test = train_test_split(X,y,test_size=0.25,random_state=12345)\n"
   ]
  },
  {
   "cell_type": "markdown",
   "metadata": {},
   "source": [
    "Перед началом обучения адаптируем категориальные признаки под модели градиентного бустинга:"
   ]
  },
  {
   "cell_type": "code",
   "execution_count": 23,
   "metadata": {},
   "outputs": [],
   "source": [
    "cat_features = ['VehicleType', 'Gearbox', 'Model','FuelType', 'Brand', 'NotRepaired']\n",
    "labelencoder = LabelEncoder()\n",
    "\n",
    "for col in cat_features:\n",
    "    X_train[col] = labelencoder.fit_transform(X_train[col])\n",
    "    X_test[col] = labelencoder.fit_transform(X_test[col])\n",
    "\n",
    "for col in cat_features:\n",
    "    X_train[col] = X_train[col].astype('int')\n",
    "    X_test[col] = X_test[col].astype('int')"
   ]
  },
  {
   "cell_type": "markdown",
   "metadata": {},
   "source": [
    "Начнем обучение с модели CatBoost. "
   ]
  },
  {
   "cell_type": "code",
   "execution_count": 24,
   "metadata": {},
   "outputs": [],
   "source": [
    "cb_model = CatBoostRegressor(cat_features=cat_features,learning_rate=0.003,\n",
    "                          depth=5)\n",
    "\n",
    "start_time = time()\n",
    "cb_model.fit(X_train, y_train)\n",
    "\n",
    "run_time = time() - start_time\n",
    "\n",
    "start = timeit.default_timer()\n",
    "y_pred_test = cb_model.predict(X_test)\n",
    "stop = timeit.default_timer()\n",
    "print(run_time, stop - start)"
   ]
  },
  {
   "cell_type": "markdown",
   "metadata": {},
   "source": [
    "Теперь сравним результаты с моделью LightGBM. "
   ]
  },
  {
   "cell_type": "code",
   "execution_count": 25,
   "metadata": {},
   "outputs": [],
   "source": [
    "hyper_params = {\n",
    "    'learning_rate': 0.003,\n",
    "    \"max_depth\" : 5\n",
    "}"
   ]
  },
  {
   "cell_type": "code",
   "execution_count": 26,
   "metadata": {},
   "outputs": [],
   "source": [
    "LGBmodel = lgb.LGBMRegressor(**hyper_params)\n",
    "start_time = time()\n",
    "LGBmodel.fit(X_train, y_train)\n",
    "\n",
    "run_time = time() - start_time\n",
    "\n",
    "start = timeit.default_timer()\n",
    "y_pred_test = LGBmodel.predict(X_test)\n",
    "stop = timeit.default_timer()\n",
    "\n",
    "print(run_time, stop - start)"
   ]
  },
  {
   "cell_type": "markdown",
   "metadata": {},
   "source": [
    "Аналогично разберем XGBoost:"
   ]
  },
  {
   "cell_type": "code",
   "execution_count": 27,
   "metadata": {},
   "outputs": [],
   "source": [
    "xgbr = xgb.XGBRegressor(learning_rate=0.03, max_depth=5, verbosity=0) \n",
    "start_time = time()\n",
    "xgbr.fit(X_train, y_train)\n",
    "\n",
    "run_time = time() - start_time\n",
    "\n",
    "start = timeit.default_timer()\n",
    "y_pred_test = LGBmodel.predict(X_test)\n",
    "stop = timeit.default_timer()\n",
    "\n",
    "print(run_time, stop - start)"
   ]
  },
  {
   "cell_type": "markdown",
   "metadata": {},
   "source": [
    "Сравним результаты моделей градиентного бустинга с алгоритмом случайного леса:"
   ]
  },
  {
   "cell_type": "code",
   "execution_count": 28,
   "metadata": {},
   "outputs": [],
   "source": [
    "from sklearn.model_selection import RandomizedSearchCV\n",
    "n_estimators = [int(x) for x in np.linspace(start = 10, stop = 100, num = 7)]\n",
    "max_depth = [int(x) for x in np.linspace(10, 50, num = 7)]\n",
    "max_depth.append(None)\n",
    "\n",
    "\n",
    "random_grid = {'n_estimators': n_estimators,\n",
    "               'max_depth': max_depth}\n",
    "print(random_grid)"
   ]
  },
  {
   "cell_type": "code",
   "execution_count": 29,
   "metadata": {},
   "outputs": [
    {
     "data": {},
     "execution_count": 29,
     "metadata": {},
     "output_type": "execute_result"
    }
   ],
   "source": [
    "rf = RandomForestRegressor()\n",
    "rf_random = RandomizedSearchCV(estimator = rf, param_distributions = random_grid, n_iter = 40, cv = 3, verbose=2, random_state=12345, n_jobs = -1)\n",
    "rf_random.fit(X_train, y_train)"
   ]
  },
  {
   "cell_type": "code",
   "execution_count": 30,
   "metadata": {},
   "outputs": [
    {
     "data": {},
     "execution_count": 30,
     "metadata": {},
     "output_type": "execute_result"
    }
   ],
   "source": [
    "rf_random.best_params_"
   ]
  },
  {
   "cell_type": "code",
   "execution_count": 31,
   "metadata": {},
   "outputs": [],
   "source": [
    "best_rf = RandomForestRegressor(**rf_random.best_params_)\n",
    "start_time = time()\n",
    "\n",
    "best_rf.fit(X_train, y_train)\n",
    "run_time = time() - start_time\n",
    "\n",
    "start = timeit.default_timer()\n",
    "y_pred_test = best_rf.predict(X_test)\n",
    "stop = timeit.default_timer()\n",
    "\n",
    "print(run_time, stop - start)"
   ]
  },
  {
   "cell_type": "markdown",
   "metadata": {},
   "source": [
    "## 3. Предсказания моделей"
   ]
  },
  {
   "cell_type": "markdown",
   "metadata": {},
   "source": [
    "Рассчитаем RMSE для каждой модели:\n",
    "    "
   ]
  },
  {
   "cell_type": "code",
   "execution_count": 32,
   "metadata": {},
   "outputs": [],
   "source": [
    "models = [cb_model, LGBmodel, xgbr, best_rf]\n",
    "for model in models:\n",
    "    y_pred = model.predict(X_test)\n",
    "    print(\"Модель\", model)\n",
    "    print(\"Метрика RMSE на тестовой выборке равна:\", mean_squared_error(y_test, y_pred) ** 0.5)\n",
    "    \n",
    "    "
   ]
  },
  {
   "cell_type": "code",
   "execution_count": 35,
   "metadata": {},
   "outputs": [],
   "source": [
    "final_table = pd.DataFrame(\n",
    "    {\n",
    "        \"Время предсказания\": [0.08,0.04,0.02, 1.09],\n",
    "        \"Время обучения\": [83.82, 0.32, 1.84, 39.66],\n",
    "        \"Метрика RMSE\": [2412, 4033, 2264, 1834]\n",
    "        \n",
    "    }, index=['CatBoost','LightGBM','XGBoost', \"Случайный лес\"]\n",
    ")\n",
    "print(final_table)"
   ]
  },
  {
   "cell_type": "markdown",
   "metadata": {},
   "source": [
    "## Вывод"
   ]
  },
  {
   "cell_type": "markdown",
   "metadata": {},
   "source": [
    "По показателю RMSE, наилучшей моделью на тестовой выборке оказался алгоритм случайного леса, затем идут XGBoost, CatBoost и LightGBM. По скорости обучения тройка лидеров следующая: LightGBM, XGBoost и случайный лес. А вот по скорости предсказания топ-3 выглядит иначе: XGBoost, LightGBM и CatBoost."
   ]
  }
 ],
 "metadata": {
  "ExecuteTimeLog": [
   {
    "duration": 61,
    "start_time": "2022-06-21T15:29:08.122Z"
   },
   {
    "duration": 2606,
    "start_time": "2022-06-21T15:29:14.622Z"
   },
   {
    "duration": 925,
    "start_time": "2022-06-21T15:29:18.894Z"
   },
   {
    "duration": 153,
    "start_time": "2022-06-21T15:29:19.821Z"
   },
   {
    "duration": 116,
    "start_time": "2022-06-21T15:29:21.450Z"
   },
   {
    "duration": 23,
    "start_time": "2022-06-21T15:29:22.282Z"
   },
   {
    "duration": 86,
    "start_time": "2022-06-21T15:29:22.942Z"
   },
   {
    "duration": 102,
    "start_time": "2022-06-21T15:29:23.738Z"
   },
   {
    "duration": 10102,
    "start_time": "2022-06-27T00:34:18.525Z"
   },
   {
    "duration": 6307,
    "start_time": "2022-06-27T00:34:35.225Z"
   },
   {
    "duration": 1002,
    "start_time": "2022-06-27T00:34:42.527Z"
   },
   {
    "duration": 888,
    "start_time": "2022-06-27T00:34:43.539Z"
   },
   {
    "duration": 138,
    "start_time": "2022-06-27T00:34:44.596Z"
   },
   {
    "duration": 713,
    "start_time": "2022-06-27T00:34:45.126Z"
   },
   {
    "duration": 4184,
    "start_time": "2022-06-27T00:34:45.841Z"
   },
   {
    "duration": 406,
    "start_time": "2022-06-27T00:34:50.030Z"
   },
   {
    "duration": 3488,
    "start_time": "2022-06-27T00:34:50.438Z"
   },
   {
    "duration": 498,
    "start_time": "2022-06-27T00:34:53.937Z"
   },
   {
    "duration": 2696,
    "start_time": "2022-06-27T00:34:54.528Z"
   },
   {
    "duration": 409,
    "start_time": "2022-06-27T00:34:57.228Z"
   },
   {
    "duration": 3601,
    "start_time": "2022-06-27T00:34:57.639Z"
   },
   {
    "duration": 398,
    "start_time": "2022-06-27T00:35:01.337Z"
   },
   {
    "duration": 1998,
    "start_time": "2022-06-27T00:35:01.737Z"
   },
   {
    "duration": 2897,
    "start_time": "2022-06-27T00:35:03.827Z"
   },
   {
    "duration": 506,
    "start_time": "2022-06-27T00:35:06.727Z"
   },
   {
    "duration": 791,
    "start_time": "2022-06-27T00:35:07.235Z"
   },
   {
    "duration": 2295,
    "start_time": "2022-06-29T13:15:00.285Z"
   },
   {
    "duration": 1330,
    "start_time": "2022-06-29T13:15:02.583Z"
   },
   {
    "duration": 1051,
    "start_time": "2022-06-29T13:15:19.877Z"
   },
   {
    "duration": 151,
    "start_time": "2022-06-29T13:15:21.744Z"
   },
   {
    "duration": 157,
    "start_time": "2022-06-29T13:15:22.297Z"
   },
   {
    "duration": 25,
    "start_time": "2022-06-29T13:15:23.553Z"
   },
   {
    "duration": 109,
    "start_time": "2022-06-29T13:15:23.935Z"
   },
   {
    "duration": 622,
    "start_time": "2022-06-29T13:15:24.285Z"
   },
   {
    "duration": 70,
    "start_time": "2022-06-29T13:15:24.909Z"
   },
   {
    "duration": 391,
    "start_time": "2022-06-29T13:15:24.997Z"
   },
   {
    "duration": 40,
    "start_time": "2022-06-29T13:15:25.539Z"
   },
   {
    "duration": 350,
    "start_time": "2022-06-29T13:15:26.013Z"
   },
   {
    "duration": 51,
    "start_time": "2022-06-29T13:15:26.367Z"
   },
   {
    "duration": 297,
    "start_time": "2022-06-29T13:15:26.996Z"
   },
   {
    "duration": 245,
    "start_time": "2022-06-29T13:15:27.361Z"
   },
   {
    "duration": 36,
    "start_time": "2022-06-29T13:15:27.825Z"
   },
   {
    "duration": 299,
    "start_time": "2022-06-29T13:15:28.243Z"
   },
   {
    "duration": 54,
    "start_time": "2022-06-29T13:15:28.749Z"
   },
   {
    "duration": 54,
    "start_time": "2022-06-29T13:15:29.692Z"
   },
   {
    "duration": 1985,
    "start_time": "2022-06-30T17:51:04.422Z"
   },
   {
    "duration": 1129,
    "start_time": "2022-06-30T17:51:07.498Z"
   },
   {
    "duration": 128,
    "start_time": "2022-06-30T17:51:08.628Z"
   },
   {
    "duration": 121,
    "start_time": "2022-06-30T17:51:09.822Z"
   },
   {
    "duration": 23,
    "start_time": "2022-06-30T17:51:10.378Z"
   },
   {
    "duration": 23,
    "start_time": "2022-06-30T17:51:10.518Z"
   },
   {
    "duration": 87,
    "start_time": "2022-06-30T17:51:10.926Z"
   },
   {
    "duration": 501,
    "start_time": "2022-06-30T17:51:11.438Z"
   },
   {
    "duration": 79,
    "start_time": "2022-06-30T17:51:11.941Z"
   },
   {
    "duration": 307,
    "start_time": "2022-06-30T17:51:12.161Z"
   },
   {
    "duration": 66,
    "start_time": "2022-06-30T17:51:12.469Z"
   },
   {
    "duration": 302,
    "start_time": "2022-06-30T17:51:12.774Z"
   },
   {
    "duration": 92,
    "start_time": "2022-06-30T17:51:13.077Z"
   },
   {
    "duration": 262,
    "start_time": "2022-06-30T17:51:13.171Z"
   },
   {
    "duration": 228,
    "start_time": "2022-06-30T17:51:13.435Z"
   },
   {
    "duration": 45,
    "start_time": "2022-06-30T17:51:13.665Z"
   },
   {
    "duration": 52,
    "start_time": "2022-06-30T17:51:13.713Z"
   },
   {
    "duration": 222,
    "start_time": "2022-06-30T17:51:13.942Z"
   },
   {
    "duration": 54,
    "start_time": "2022-06-30T17:51:14.166Z"
   }
  ],
  "kernelspec": {
   "display_name": "Python 3",
   "language": "python",
   "name": "python3"
  },
  "language_info": {
   "codemirror_mode": {
    "name": "ipython",
    "version": 3
   },
   "file_extension": ".py",
   "mimetype": "text/x-python",
   "name": "python",
   "nbconvert_exporter": "python",
   "pygments_lexer": "ipython3",
   "version": "3.8.5"
  },
  "toc": {
   "base_numbering": 1,
   "nav_menu": {},
   "number_sections": true,
   "sideBar": true,
   "skip_h1_title": true,
   "title_cell": "Table of Contents",
   "title_sidebar": "Contents",
   "toc_cell": false,
   "toc_position": {},
   "toc_section_display": true,
   "toc_window_display": false
  }
 },
 "nbformat": 4,
 "nbformat_minor": 4
}
