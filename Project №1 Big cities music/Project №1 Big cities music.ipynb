{
 "cells": [
  {
   "cell_type": "markdown",
   "metadata": {
    "id": "E0vqbgi9ay0H"
   },
   "source": [
    "# Яндекс.Музыка"
   ]
  },
  {
   "cell_type": "markdown",
   "metadata": {
    "id": "VUC88oWjTJw2"
   },
   "source": [
    "Сравнение Москвы и Петербурга окружено мифами. Например:\n",
    " * Москва — мегаполис, подчинённый жёсткому ритму рабочей недели;\n",
    " * Петербург — культурная столица, со своими вкусами.\n",
    "\n",
    "На данных Яндекс.Музыки вы сравните поведение пользователей двух столиц.\n",
    "\n",
    "**Цель исследования** — проверьте три гипотезы:\n",
    "1. Активность пользователей зависит от дня недели. Причём в Москве и Петербурге это проявляется по-разному.\n",
    "2. В понедельник утром в Москве преобладают одни жанры, а в Петербурге — другие. Так же и вечером пятницы преобладают разные жанры — в зависимости от города. \n",
    "3. Москва и Петербург предпочитают разные жанры музыки. В Москве чаще слушают поп-музыку, в Петербурге — русский рэп.\n",
    "\n",
    "**Ход исследования**\n",
    "\n",
    "Данные о поведении пользователей вы получите из файла `yandex_music_project.csv`. О качестве данных ничего не известно. Поэтому перед проверкой гипотез понадобится обзор данных. \n",
    "\n",
    "Вы проверите данные на ошибки и оцените их влияние на исследование. Затем, на этапе предобработки вы поищете возможность исправить самые критичные ошибки данных.\n",
    " \n",
    "Таким образом, исследование пройдёт в три этапа:\n",
    " 1. Обзор данных.\n",
    " 2. Предобработка данных.\n",
    " 3. Проверка гипотез.\n",
    "\n"
   ]
  },
  {
   "cell_type": "markdown",
   "metadata": {
    "id": "Ml1hmfXC_Zcs"
   },
   "source": [
    "## Обзор данных\n",
    "\n",
    "Составьте первое представление о данных Яндекс.Музыки.\n",
    "\n",
    "\n"
   ]
  },
  {
   "cell_type": "markdown",
   "metadata": {
    "id": "57eAOGIz_Zcs"
   },
   "source": [
    "Основной инструмент аналитика — `pandas`. Импортируйте эту библиотеку."
   ]
  },
  {
   "cell_type": "code",
   "execution_count": 1,
   "metadata": {
    "id": "AXN7PHPN_Zcs"
   },
   "outputs": [],
   "source": [
    "import pandas as pd"
   ]
  },
  {
   "cell_type": "markdown",
   "metadata": {
    "id": "SG23P8tt_Zcs"
   },
   "source": [
    "Прочитайте файл `yandex_music_project.csv`из папки `/datasets` и сохраните его в переменной `df`:\n"
   ]
  },
  {
   "cell_type": "code",
   "execution_count": 2,
   "metadata": {
    "id": "fFVu7vqh_Zct"
   },
   "outputs": [],
   "source": [
    "df = pd.read_csv('/datasets/yandex_music_project.csv')"
   ]
  },
  {
   "cell_type": "markdown",
   "metadata": {
    "id": "rDoOMd3uTqnZ"
   },
   "source": [
    "Выведите на экран первые десять строк таблицы:"
   ]
  },
  {
   "cell_type": "code",
   "execution_count": 3,
   "metadata": {
    "id": "oWTVX3gW_Zct"
   },
   "outputs": [
    {
     "data": {
      "text/html": [
       "<div>\n",
       "<style scoped>\n",
       "    .dataframe tbody tr th:only-of-type {\n",
       "        vertical-align: middle;\n",
       "    }\n",
       "\n",
       "    .dataframe tbody tr th {\n",
       "        vertical-align: top;\n",
       "    }\n",
       "\n",
       "    .dataframe thead th {\n",
       "        text-align: right;\n",
       "    }\n",
       "</style>\n",
       "<table border=\"1\" class=\"dataframe\">\n",
       "  <thead>\n",
       "    <tr style=\"text-align: right;\">\n",
       "      <th></th>\n",
       "      <th>userID</th>\n",
       "      <th>Track</th>\n",
       "      <th>artist</th>\n",
       "      <th>genre</th>\n",
       "      <th>City</th>\n",
       "      <th>time</th>\n",
       "      <th>Day</th>\n",
       "    </tr>\n",
       "  </thead>\n",
       "  <tbody>\n",
       "    <tr>\n",
       "      <td>0</td>\n",
       "      <td>FFB692EC</td>\n",
       "      <td>Kamigata To Boots</td>\n",
       "      <td>The Mass Missile</td>\n",
       "      <td>rock</td>\n",
       "      <td>Saint-Petersburg</td>\n",
       "      <td>20:28:33</td>\n",
       "      <td>Wednesday</td>\n",
       "    </tr>\n",
       "    <tr>\n",
       "      <td>1</td>\n",
       "      <td>55204538</td>\n",
       "      <td>Delayed Because of Accident</td>\n",
       "      <td>Andreas Rönnberg</td>\n",
       "      <td>rock</td>\n",
       "      <td>Moscow</td>\n",
       "      <td>14:07:09</td>\n",
       "      <td>Friday</td>\n",
       "    </tr>\n",
       "    <tr>\n",
       "      <td>2</td>\n",
       "      <td>20EC38</td>\n",
       "      <td>Funiculì funiculà</td>\n",
       "      <td>Mario Lanza</td>\n",
       "      <td>pop</td>\n",
       "      <td>Saint-Petersburg</td>\n",
       "      <td>20:58:07</td>\n",
       "      <td>Wednesday</td>\n",
       "    </tr>\n",
       "    <tr>\n",
       "      <td>3</td>\n",
       "      <td>A3DD03C9</td>\n",
       "      <td>Dragons in the Sunset</td>\n",
       "      <td>Fire + Ice</td>\n",
       "      <td>folk</td>\n",
       "      <td>Saint-Petersburg</td>\n",
       "      <td>08:37:09</td>\n",
       "      <td>Monday</td>\n",
       "    </tr>\n",
       "    <tr>\n",
       "      <td>4</td>\n",
       "      <td>E2DC1FAE</td>\n",
       "      <td>Soul People</td>\n",
       "      <td>Space Echo</td>\n",
       "      <td>dance</td>\n",
       "      <td>Moscow</td>\n",
       "      <td>08:34:34</td>\n",
       "      <td>Monday</td>\n",
       "    </tr>\n",
       "    <tr>\n",
       "      <td>5</td>\n",
       "      <td>842029A1</td>\n",
       "      <td>Преданная</td>\n",
       "      <td>IMPERVTOR</td>\n",
       "      <td>rusrap</td>\n",
       "      <td>Saint-Petersburg</td>\n",
       "      <td>13:09:41</td>\n",
       "      <td>Friday</td>\n",
       "    </tr>\n",
       "    <tr>\n",
       "      <td>6</td>\n",
       "      <td>4CB90AA5</td>\n",
       "      <td>True</td>\n",
       "      <td>Roman Messer</td>\n",
       "      <td>dance</td>\n",
       "      <td>Moscow</td>\n",
       "      <td>13:00:07</td>\n",
       "      <td>Wednesday</td>\n",
       "    </tr>\n",
       "    <tr>\n",
       "      <td>7</td>\n",
       "      <td>F03E1C1F</td>\n",
       "      <td>Feeling This Way</td>\n",
       "      <td>Polina Griffith</td>\n",
       "      <td>dance</td>\n",
       "      <td>Moscow</td>\n",
       "      <td>20:47:49</td>\n",
       "      <td>Wednesday</td>\n",
       "    </tr>\n",
       "    <tr>\n",
       "      <td>8</td>\n",
       "      <td>8FA1D3BE</td>\n",
       "      <td>И вновь продолжается бой</td>\n",
       "      <td>NaN</td>\n",
       "      <td>ruspop</td>\n",
       "      <td>Moscow</td>\n",
       "      <td>09:17:40</td>\n",
       "      <td>Friday</td>\n",
       "    </tr>\n",
       "    <tr>\n",
       "      <td>9</td>\n",
       "      <td>E772D5C0</td>\n",
       "      <td>Pessimist</td>\n",
       "      <td>NaN</td>\n",
       "      <td>dance</td>\n",
       "      <td>Saint-Petersburg</td>\n",
       "      <td>21:20:49</td>\n",
       "      <td>Wednesday</td>\n",
       "    </tr>\n",
       "  </tbody>\n",
       "</table>\n",
       "</div>"
      ],
      "text/plain": [
       "     userID                        Track            artist   genre  \\\n",
       "0  FFB692EC            Kamigata To Boots  The Mass Missile    rock   \n",
       "1  55204538  Delayed Because of Accident  Andreas Rönnberg    rock   \n",
       "2    20EC38            Funiculì funiculà       Mario Lanza     pop   \n",
       "3  A3DD03C9        Dragons in the Sunset        Fire + Ice    folk   \n",
       "4  E2DC1FAE                  Soul People        Space Echo   dance   \n",
       "5  842029A1                    Преданная         IMPERVTOR  rusrap   \n",
       "6  4CB90AA5                         True      Roman Messer   dance   \n",
       "7  F03E1C1F             Feeling This Way   Polina Griffith   dance   \n",
       "8  8FA1D3BE     И вновь продолжается бой               NaN  ruspop   \n",
       "9  E772D5C0                    Pessimist               NaN   dance   \n",
       "\n",
       "             City        time        Day  \n",
       "0  Saint-Petersburg  20:28:33  Wednesday  \n",
       "1            Moscow  14:07:09     Friday  \n",
       "2  Saint-Petersburg  20:58:07  Wednesday  \n",
       "3  Saint-Petersburg  08:37:09     Monday  \n",
       "4            Moscow  08:34:34     Monday  \n",
       "5  Saint-Petersburg  13:09:41     Friday  \n",
       "6            Moscow  13:00:07  Wednesday  \n",
       "7            Moscow  20:47:49  Wednesday  \n",
       "8            Moscow  09:17:40     Friday  \n",
       "9  Saint-Petersburg  21:20:49  Wednesday  "
      ]
     },
     "metadata": {},
     "output_type": "display_data"
    }
   ],
   "source": [
    "display(df.head(10))"
   ]
  },
  {
   "cell_type": "markdown",
   "metadata": {
    "id": "EO73Kwic_Zct"
   },
   "source": [
    "Одной командой получить общую информацию о таблице:"
   ]
  },
  {
   "cell_type": "code",
   "execution_count": 4,
   "metadata": {
    "id": "DSf2kIb-_Zct"
   },
   "outputs": [
    {
     "name": "stdout",
     "output_type": "stream",
     "text": [
      "<class 'pandas.core.frame.DataFrame'>\n",
      "RangeIndex: 65079 entries, 0 to 65078\n",
      "Data columns (total 7 columns):\n",
      "  userID    65079 non-null object\n",
      "Track       63848 non-null object\n",
      "artist      57876 non-null object\n",
      "genre       63881 non-null object\n",
      "  City      65079 non-null object\n",
      "time        65079 non-null object\n",
      "Day         65079 non-null object\n",
      "dtypes: object(7)\n",
      "memory usage: 3.5+ MB\n"
     ]
    }
   ],
   "source": [
    "df.info()\n"
   ]
  },
  {
   "cell_type": "markdown",
   "metadata": {
    "id": "TaQ2Iwbr_Zct"
   },
   "source": [
    "Итак, в таблице семь столбцов. Тип данных во всех столбцах — `object`.\n",
    "\n",
    "Согласно документации к данным:\n",
    "* `userID` — идентификатор пользователя;\n",
    "* `Track` — название трека;  \n",
    "* `artist` — имя исполнителя;\n",
    "* `genre` — название жанра;\n",
    "* `City` — город пользователя;\n",
    "* `time` — время начала прослушивания;\n",
    "* `Day` — день недели.\n",
    "\n",
    "В названиях колонок видны три нарушения стиля:\n",
    "1. Строчные буквы сочетаются с прописными.\n",
    "2. Встречаются пробелы.\n",
    "3. Найдите ещё одну проблему в названии колонок и опишите её в этом пункте. #Я бы использовал \"змеиный регистр\" для userID\n",
    "\n",
    "\n",
    "\n",
    "Количество значений в столбцах различается. Значит, в данных есть пропущенные значения.\n"
   ]
  },
  {
   "cell_type": "markdown",
   "metadata": {
    "id": "MCB6-dXG_Zct"
   },
   "source": [
    "**Выводы**\n",
    "\n",
    "В каждой строке таблицы — данные о прослушанном треке. Часть колонок описывает саму композицию: название, исполнителя и жанр. Остальные данные рассказывают о пользователе: из какого он города, когда он слушал музыку. \n",
    "\n",
    "Предварительно можно утверждать, что, данных достаточно для проверки гипотез. Но встречаются пропуски в данных, а в названиях колонок — расхождения с хорошим стилем.\n",
    "\n",
    "Чтобы двигаться дальше, нужно устранить проблемы в данных."
   ]
  },
  {
   "cell_type": "markdown",
   "metadata": {
    "id": "SjYF6Ub9_Zct"
   },
   "source": [
    "## Предобработка данных\n",
    "Исправьте стиль в заголовках столбцов, исключите пропуски. Затем проверьте данные на дубликаты."
   ]
  },
  {
   "cell_type": "markdown",
   "metadata": {
    "id": "dIaKXr29_Zct"
   },
   "source": [
    "### Стиль заголовков\n",
    "Выведите на экран названия столбцов:"
   ]
  },
  {
   "cell_type": "code",
   "execution_count": 5,
   "metadata": {
    "id": "oKOTdF_Q_Zct"
   },
   "outputs": [
    {
     "data": {
      "text/plain": [
       "Index(['  userID', 'Track', 'artist', 'genre', '  City  ', 'time', 'Day'], dtype='object')"
      ]
     },
     "metadata": {},
     "output_type": "display_data"
    }
   ],
   "source": [
    "display(df.columns)"
   ]
  },
  {
   "cell_type": "markdown",
   "metadata": {
    "id": "zj5534cv_Zct"
   },
   "source": [
    "Приведите названия в соответствие с хорошим стилем:\n",
    "* несколько слов в названии запишите в «змеином_регистре»,\n",
    "* все символы сделайте строчными,\n",
    "* устраните пробелы.\n",
    "\n",
    "Для этого переименуйте колонки так:\n",
    "* `'  userID'` → `'user_id'`;\n",
    "* `'Track'` → `'track'`;\n",
    "* `'  City  '` → `'city'`;\n",
    "* `'Day'` → `'day'`."
   ]
  },
  {
   "cell_type": "code",
   "execution_count": 6,
   "metadata": {
    "id": "ISlFqs5y_Zct"
   },
   "outputs": [],
   "source": [
    "df = df.rename(columns = {'  userID':'user_id','Track':'track','  City  ':'city','Day':'day'})"
   ]
  },
  {
   "cell_type": "markdown",
   "metadata": {
    "id": "1dqbh00J_Zct"
   },
   "source": [
    "Проверьте результат. Для этого ещё раз выведите на экран названия столбцов:"
   ]
  },
  {
   "cell_type": "code",
   "execution_count": 7,
   "metadata": {
    "id": "d4NOAmTW_Zct"
   },
   "outputs": [
    {
     "data": {
      "text/plain": [
       "Index(['user_id', 'track', 'artist', 'genre', 'city', 'time', 'day'], dtype='object')"
      ]
     },
     "metadata": {},
     "output_type": "display_data"
    }
   ],
   "source": [
    "display(df.columns)"
   ]
  },
  {
   "cell_type": "markdown",
   "metadata": {
    "id": "5ISfbcfY_Zct"
   },
   "source": [
    "### Пропуски значений\n",
    "Сначала посчитайте, сколько в таблице пропущенных значений. Для этого достаточно двух методов `pandas`:"
   ]
  },
  {
   "cell_type": "code",
   "execution_count": 8,
   "metadata": {
    "id": "RskX29qr_Zct"
   },
   "outputs": [
    {
     "data": {
      "text/plain": [
       "user_id       0\n",
       "track      1231\n",
       "artist     7203\n",
       "genre      1198\n",
       "city          0\n",
       "time          0\n",
       "day           0\n",
       "dtype: int64"
      ]
     },
     "execution_count": 8,
     "metadata": {},
     "output_type": "execute_result"
    }
   ],
   "source": [
    "df.isnull().sum()"
   ]
  },
  {
   "cell_type": "markdown",
   "metadata": {
    "id": "qubhgnlO_Zct"
   },
   "source": [
    "Не все пропущенные значения влияют на исследование. Так в `track` и `artist` пропуски не важны для вашей работы. Достаточно заменить их явными обозначениями.\n",
    "\n",
    "Но пропуски в `genre` могут помешать сравнению музыкальных вкусов в Москве и Санкт-Петербурге. На практике было бы правильно установить причину пропусков и восстановить данные. Такой возможности нет в учебном проекте. Придётся:\n",
    "* заполнить и эти пропуски явными обозначениями,\n",
    "* оценить, насколько они повредят расчётам. "
   ]
  },
  {
   "cell_type": "markdown",
   "metadata": {
    "id": "fSv2laPA_Zct"
   },
   "source": [
    "Замените пропущенные значения в столбцах `track`, `artist` и `genre` на строку `'unknown'`. Для этого создайте список `columns_to_replace`, переберите его элементы циклом `for` и для каждого столбца выполните замену пропущенных значений:"
   ]
  },
  {
   "cell_type": "code",
   "execution_count": 9,
   "metadata": {
    "id": "KplB5qWs_Zct"
   },
   "outputs": [],
   "source": [
    "columns_to_replace =['track','artist','genre']\n",
    "for column in columns_to_replace:\n",
    "    df[column]= df[column].fillna('unknown')"
   ]
  },
  {
   "cell_type": "markdown",
   "metadata": {
    "id": "Ilsm-MZo_Zct"
   },
   "source": [
    "Убедитесь, что в таблице не осталось пропусков. Для этого ещё раз посчитайте пропущенные значения."
   ]
  },
  {
   "cell_type": "code",
   "execution_count": 10,
   "metadata": {
    "id": "Tq4nYRX4_Zct"
   },
   "outputs": [
    {
     "data": {
      "text/plain": [
       "user_id    0\n",
       "track      0\n",
       "artist     0\n",
       "genre      0\n",
       "city       0\n",
       "time       0\n",
       "day        0\n",
       "dtype: int64"
      ]
     },
     "execution_count": 10,
     "metadata": {},
     "output_type": "execute_result"
    }
   ],
   "source": [
    "df.isnull().sum()"
   ]
  },
  {
   "cell_type": "markdown",
   "metadata": {
    "id": "BWKRtBJ3_Zct"
   },
   "source": [
    "### Дубликаты\n",
    "Посчитайте явные дубликаты в таблице одной командой:"
   ]
  },
  {
   "cell_type": "code",
   "execution_count": 11,
   "metadata": {
    "id": "36eES_S0_Zct"
   },
   "outputs": [
    {
     "data": {
      "text/plain": [
       "3826"
      ]
     },
     "execution_count": 11,
     "metadata": {},
     "output_type": "execute_result"
    }
   ],
   "source": [
    "df.duplicated().sum()"
   ]
  },
  {
   "cell_type": "markdown",
   "metadata": {
    "id": "Ot25h6XR_Zct"
   },
   "source": [
    "Вызовите специальный метод `pandas`, чтобы удалить явные дубликаты:"
   ]
  },
  {
   "cell_type": "code",
   "execution_count": 12,
   "metadata": {
    "id": "exFHq6tt_Zct"
   },
   "outputs": [],
   "source": [
    "df = df.drop_duplicates().reset_index(drop=True)"
   ]
  },
  {
   "cell_type": "markdown",
   "metadata": {
    "id": "Im2YwBEG_Zct"
   },
   "source": [
    "Ещё раз посчитайте явные дубликаты в таблице — убедитесь, что полностью от них избавились:"
   ]
  },
  {
   "cell_type": "code",
   "execution_count": 13,
   "metadata": {
    "id": "-8PuNWQ0_Zct"
   },
   "outputs": [
    {
     "data": {
      "text/plain": [
       "0"
      ]
     },
     "execution_count": 13,
     "metadata": {},
     "output_type": "execute_result"
    }
   ],
   "source": [
    "df.duplicated().sum()"
   ]
  },
  {
   "cell_type": "markdown",
   "metadata": {
    "id": "QlFBsxAr_Zct"
   },
   "source": [
    "Теперь избавьтесь от неявных дубликатов в колонке `genre`. Например, название одного и того же жанра может быть записано немного по-разному. Такие ошибки тоже повлияют на результат исследования."
   ]
  },
  {
   "cell_type": "markdown",
   "metadata": {
    "id": "eSjWwsOh_Zct"
   },
   "source": [
    "Выведите на экран список уникальных названий жанров, отсортированный в алфавитном порядке. Для этого:\n",
    "* извлеките нужный столбец датафрейма, \n",
    "* примените к нему метод сортировки,\n",
    "* для отсортированного столбца вызовите метод, который вернёт уникальные значения из столбца."
   ]
  },
  {
   "cell_type": "code",
   "execution_count": 14,
   "metadata": {
    "id": "JIUcqzZN_Zct"
   },
   "outputs": [
    {
     "data": {
      "text/plain": [
       "array(['acid', 'acoustic', 'action', 'adult', 'africa', 'afrikaans',\n",
       "       'alternative', 'alternativepunk', 'ambient', 'americana',\n",
       "       'animated', 'anime', 'arabesk', 'arabic', 'arena',\n",
       "       'argentinetango', 'art', 'audiobook', 'author', 'avantgarde',\n",
       "       'axé', 'baile', 'balkan', 'beats', 'bigroom', 'black', 'bluegrass',\n",
       "       'blues', 'bollywood', 'bossa', 'brazilian', 'breakbeat', 'breaks',\n",
       "       'broadway', 'cantautori', 'cantopop', 'canzone', 'caribbean',\n",
       "       'caucasian', 'celtic', 'chamber', 'chanson', 'children', 'chill',\n",
       "       'chinese', 'choral', 'christian', 'christmas', 'classical',\n",
       "       'classicmetal', 'club', 'colombian', 'comedy', 'conjazz',\n",
       "       'contemporary', 'country', 'cuban', 'dance', 'dancehall',\n",
       "       'dancepop', 'dark', 'death', 'deep', 'deutschrock', 'deutschspr',\n",
       "       'dirty', 'disco', 'dnb', 'documentary', 'downbeat', 'downtempo',\n",
       "       'drum', 'dub', 'dubstep', 'eastern', 'easy', 'electronic',\n",
       "       'electropop', 'emo', 'entehno', 'epicmetal', 'estrada', 'ethnic',\n",
       "       'eurofolk', 'european', 'experimental', 'extrememetal', 'fado',\n",
       "       'fairytail', 'film', 'fitness', 'flamenco', 'folk', 'folklore',\n",
       "       'folkmetal', 'folkrock', 'folktronica', 'forró', 'frankreich',\n",
       "       'französisch', 'french', 'funk', 'future', 'gangsta', 'garage',\n",
       "       'german', 'ghazal', 'gitarre', 'glitch', 'gospel', 'gothic',\n",
       "       'grime', 'grunge', 'gypsy', 'handsup', \"hard'n'heavy\", 'hardcore',\n",
       "       'hardstyle', 'hardtechno', 'hip', 'hip-hop', 'hiphop',\n",
       "       'historisch', 'holiday', 'hop', 'horror', 'house', 'hymn', 'idm',\n",
       "       'independent', 'indian', 'indie', 'indipop', 'industrial',\n",
       "       'inspirational', 'instrumental', 'international', 'irish', 'jam',\n",
       "       'japanese', 'jazz', 'jewish', 'jpop', 'jungle', 'k-pop',\n",
       "       'karadeniz', 'karaoke', 'kayokyoku', 'korean', 'laiko', 'latin',\n",
       "       'latino', 'leftfield', 'local', 'lounge', 'loungeelectronic',\n",
       "       'lovers', 'malaysian', 'mandopop', 'marschmusik', 'meditative',\n",
       "       'mediterranean', 'melodic', 'metal', 'metalcore', 'mexican',\n",
       "       'middle', 'minimal', 'miscellaneous', 'modern', 'mood', 'mpb',\n",
       "       'muslim', 'native', 'neoklassik', 'neue', 'new', 'newage',\n",
       "       'newwave', 'nu', 'nujazz', 'numetal', 'oceania', 'old', 'opera',\n",
       "       'orchestral', 'other', 'piano', 'podcasts', 'pop', 'popdance',\n",
       "       'popelectronic', 'popeurodance', 'poprussian', 'post',\n",
       "       'posthardcore', 'postrock', 'power', 'progmetal', 'progressive',\n",
       "       'psychedelic', 'punjabi', 'punk', 'quebecois', 'ragga', 'ram',\n",
       "       'rancheras', 'rap', 'rave', 'reggae', 'reggaeton', 'regional',\n",
       "       'relax', 'religious', 'retro', 'rhythm', 'rnb', 'rnr', 'rock',\n",
       "       'rockabilly', 'rockalternative', 'rockindie', 'rockother',\n",
       "       'romance', 'roots', 'ruspop', 'rusrap', 'rusrock', 'russian',\n",
       "       'salsa', 'samba', 'scenic', 'schlager', 'self', 'sertanejo',\n",
       "       'shanson', 'shoegazing', 'showtunes', 'singer', 'ska', 'skarock',\n",
       "       'slow', 'smooth', 'soft', 'soul', 'soulful', 'sound', 'soundtrack',\n",
       "       'southern', 'specialty', 'speech', 'spiritual', 'sport',\n",
       "       'stonerrock', 'surf', 'swing', 'synthpop', 'synthrock',\n",
       "       'sängerportrait', 'tango', 'tanzorchester', 'taraftar', 'tatar',\n",
       "       'tech', 'techno', 'teen', 'thrash', 'top', 'traditional',\n",
       "       'tradjazz', 'trance', 'tribal', 'trip', 'triphop', 'tropical',\n",
       "       'türk', 'türkçe', 'ukrrock', 'unknown', 'urban', 'uzbek',\n",
       "       'variété', 'vi', 'videogame', 'vocal', 'western', 'world',\n",
       "       'worldbeat', 'ïîï', 'электроника'], dtype=object)"
      ]
     },
     "metadata": {},
     "output_type": "display_data"
    }
   ],
   "source": [
    "unical = df['genre'].sort_values().unique()\n",
    "display(unical)"
   ]
  },
  {
   "cell_type": "markdown",
   "metadata": {
    "id": "qej-Qmuo_Zct"
   },
   "source": [
    "Просмотрите список и найдите неявные дубликаты названия `hiphop`. Это могут быть названия с ошибками или альтернативные названия того же жанра.\n",
    "\n",
    "Вы увидите следующие неявные дубликаты:\n",
    "* *hip*,\n",
    "* *hop*,\n",
    "* *hip-hop*.\n",
    "\n",
    "Чтобы очистить от них таблицу, напишите функцию `replace_wrong_genres()` с двумя параметрами: \n",
    "* `wrong_genres` — список дубликатов,\n",
    "* `correct_genre` — строка с правильным значением.\n",
    "\n",
    "Функция должна исправить колонку `genre` в таблице `df`: заменить каждое значение из списка `wrong_genres` на значение из `correct_genre`."
   ]
  },
  {
   "cell_type": "code",
   "execution_count": 15,
   "metadata": {
    "id": "ErNDkmns_Zct"
   },
   "outputs": [],
   "source": [
    "def replace_wrong_genres(wrong_genres,correct_genre):\n",
    "    for wrong_genre in wrong_genres:\n",
    "        df['genre'] = df['genre'].replace(wrong_genre,correct_genre)\n",
    "        \n",
    "duplicates = ['hip', 'hop','hip-hop']\n",
    "true_one = 'hiphop'\n",
    "\n",
    "        \n",
    "    \n",
    "        \n",
    "        \n",
    "        "
   ]
  },
  {
   "cell_type": "markdown",
   "metadata": {
    "id": "aDoBJxbA_Zct"
   },
   "source": [
    "Вызовите `replace_wrong_genres()` и передайте ей такие аргументы, чтобы она устранила неявные дубликаты: вместо `hip`, `hop` и `hip-hop` в таблице должно быть значение `hiphop`:"
   ]
  },
  {
   "cell_type": "code",
   "execution_count": 16,
   "metadata": {
    "id": "YN5i2hpmSo09"
   },
   "outputs": [],
   "source": [
    "replace_wrong_genres(duplicates, true_one)\n"
   ]
  },
  {
   "cell_type": "markdown",
   "metadata": {
    "id": "zQKF16_RG15m"
   },
   "source": [
    "Проверьте, что заменили неправильные названия:\n",
    "\n",
    "*   hip\n",
    "*   hop\n",
    "*   hip-hop\n",
    "\n",
    "Выведите отсортированный список уникальных значений столбца `genre`:"
   ]
  },
  {
   "cell_type": "code",
   "execution_count": 17,
   "metadata": {
    "id": "wvixALnFG15m"
   },
   "outputs": [
    {
     "data": {
      "text/plain": [
       "array(['acid', 'acoustic', 'action', 'adult', 'africa', 'afrikaans',\n",
       "       'alternative', 'alternativepunk', 'ambient', 'americana',\n",
       "       'animated', 'anime', 'arabesk', 'arabic', 'arena',\n",
       "       'argentinetango', 'art', 'audiobook', 'author', 'avantgarde',\n",
       "       'axé', 'baile', 'balkan', 'beats', 'bigroom', 'black', 'bluegrass',\n",
       "       'blues', 'bollywood', 'bossa', 'brazilian', 'breakbeat', 'breaks',\n",
       "       'broadway', 'cantautori', 'cantopop', 'canzone', 'caribbean',\n",
       "       'caucasian', 'celtic', 'chamber', 'chanson', 'children', 'chill',\n",
       "       'chinese', 'choral', 'christian', 'christmas', 'classical',\n",
       "       'classicmetal', 'club', 'colombian', 'comedy', 'conjazz',\n",
       "       'contemporary', 'country', 'cuban', 'dance', 'dancehall',\n",
       "       'dancepop', 'dark', 'death', 'deep', 'deutschrock', 'deutschspr',\n",
       "       'dirty', 'disco', 'dnb', 'documentary', 'downbeat', 'downtempo',\n",
       "       'drum', 'dub', 'dubstep', 'eastern', 'easy', 'electronic',\n",
       "       'electropop', 'emo', 'entehno', 'epicmetal', 'estrada', 'ethnic',\n",
       "       'eurofolk', 'european', 'experimental', 'extrememetal', 'fado',\n",
       "       'fairytail', 'film', 'fitness', 'flamenco', 'folk', 'folklore',\n",
       "       'folkmetal', 'folkrock', 'folktronica', 'forró', 'frankreich',\n",
       "       'französisch', 'french', 'funk', 'future', 'gangsta', 'garage',\n",
       "       'german', 'ghazal', 'gitarre', 'glitch', 'gospel', 'gothic',\n",
       "       'grime', 'grunge', 'gypsy', 'handsup', \"hard'n'heavy\", 'hardcore',\n",
       "       'hardstyle', 'hardtechno', 'hiphop', 'historisch', 'holiday',\n",
       "       'horror', 'house', 'hymn', 'idm', 'independent', 'indian', 'indie',\n",
       "       'indipop', 'industrial', 'inspirational', 'instrumental',\n",
       "       'international', 'irish', 'jam', 'japanese', 'jazz', 'jewish',\n",
       "       'jpop', 'jungle', 'k-pop', 'karadeniz', 'karaoke', 'kayokyoku',\n",
       "       'korean', 'laiko', 'latin', 'latino', 'leftfield', 'local',\n",
       "       'lounge', 'loungeelectronic', 'lovers', 'malaysian', 'mandopop',\n",
       "       'marschmusik', 'meditative', 'mediterranean', 'melodic', 'metal',\n",
       "       'metalcore', 'mexican', 'middle', 'minimal', 'miscellaneous',\n",
       "       'modern', 'mood', 'mpb', 'muslim', 'native', 'neoklassik', 'neue',\n",
       "       'new', 'newage', 'newwave', 'nu', 'nujazz', 'numetal', 'oceania',\n",
       "       'old', 'opera', 'orchestral', 'other', 'piano', 'podcasts', 'pop',\n",
       "       'popdance', 'popelectronic', 'popeurodance', 'poprussian', 'post',\n",
       "       'posthardcore', 'postrock', 'power', 'progmetal', 'progressive',\n",
       "       'psychedelic', 'punjabi', 'punk', 'quebecois', 'ragga', 'ram',\n",
       "       'rancheras', 'rap', 'rave', 'reggae', 'reggaeton', 'regional',\n",
       "       'relax', 'religious', 'retro', 'rhythm', 'rnb', 'rnr', 'rock',\n",
       "       'rockabilly', 'rockalternative', 'rockindie', 'rockother',\n",
       "       'romance', 'roots', 'ruspop', 'rusrap', 'rusrock', 'russian',\n",
       "       'salsa', 'samba', 'scenic', 'schlager', 'self', 'sertanejo',\n",
       "       'shanson', 'shoegazing', 'showtunes', 'singer', 'ska', 'skarock',\n",
       "       'slow', 'smooth', 'soft', 'soul', 'soulful', 'sound', 'soundtrack',\n",
       "       'southern', 'specialty', 'speech', 'spiritual', 'sport',\n",
       "       'stonerrock', 'surf', 'swing', 'synthpop', 'synthrock',\n",
       "       'sängerportrait', 'tango', 'tanzorchester', 'taraftar', 'tatar',\n",
       "       'tech', 'techno', 'teen', 'thrash', 'top', 'traditional',\n",
       "       'tradjazz', 'trance', 'tribal', 'trip', 'triphop', 'tropical',\n",
       "       'türk', 'türkçe', 'ukrrock', 'unknown', 'urban', 'uzbek',\n",
       "       'variété', 'vi', 'videogame', 'vocal', 'western', 'world',\n",
       "       'worldbeat', 'ïîï', 'электроника'], dtype=object)"
      ]
     },
     "execution_count": 17,
     "metadata": {},
     "output_type": "execute_result"
    }
   ],
   "source": [
    "df['genre'].sort_values().unique()\n"
   ]
  },
  {
   "cell_type": "markdown",
   "metadata": {
    "id": "jz6a9-7HQUDd"
   },
   "source": [
    "**Выводы**\n",
    "\n",
    "Предобработка обнаружила три проблемы в данных:\n",
    "\n",
    "- нарушения в стиле заголовков,\n",
    "- пропущенные значения,\n",
    "- дубликаты — явные и неявные.\n",
    "\n",
    "Вы исправили заголовки, чтобы упростить работу с таблицей. Без дубликатов исследование станет более точным.\n",
    "\n",
    "Пропущенные значения вы заменили на `'unknown'`. Ещё предстоит увидеть, не повредят ли исследованию пропуски в колонке `genre`.\n",
    "\n",
    "Теперь можно перейти к проверке гипотез. "
   ]
  },
  {
   "cell_type": "markdown",
   "metadata": {
    "id": "WttZHXH0SqKk"
   },
   "source": [
    "## Проверка гипотез"
   ]
  },
  {
   "cell_type": "markdown",
   "metadata": {
    "id": "Im936VVi_Zcu"
   },
   "source": [
    "### Сравнение поведения пользователей двух столиц"
   ]
  },
  {
   "cell_type": "markdown",
   "metadata": {
    "id": "nwt_MuaL_Zcu"
   },
   "source": [
    "Первая гипотеза утверждает, что пользователи по-разному слушают музыку в Москве и Санкт-Петербурге. Проверьте это предположение по данным о трёх днях недели — понедельнике, среде и пятнице. Для этого:\n",
    "\n",
    "* Разделите пользователей Москвы и Санкт-Петербурга\n",
    "* Сравните, сколько треков послушала каждая группа пользователей в понедельник, среду и пятницу.\n"
   ]
  },
  {
   "cell_type": "markdown",
   "metadata": {
    "id": "8Dw_YMmT_Zcu"
   },
   "source": [
    "Для тренировки сначала выполните каждый из расчётов по отдельности. \n",
    "\n",
    "Оцените активность пользователей в каждом городе. Сгруппируйте данные по городу и посчитайте прослушивания в каждой группе.\n",
    "\n"
   ]
  },
  {
   "cell_type": "code",
   "execution_count": 18,
   "metadata": {
    "id": "0_Qs96oh_Zcu"
   },
   "outputs": [
    {
     "data": {
      "text/plain": [
       "city\n",
       "Moscow              42741\n",
       "Saint-Petersburg    18512\n",
       "Name: genre, dtype: int64"
      ]
     },
     "execution_count": 18,
     "metadata": {},
     "output_type": "execute_result"
    }
   ],
   "source": [
    "df.groupby('city')['genre'].count()\n",
    "\n"
   ]
  },
  {
   "cell_type": "markdown",
   "metadata": {
    "id": "dzli3w8o_Zcu"
   },
   "source": [
    "В Москве прослушиваний больше, чем в Петербурге. Из этого не следует, что московские пользователи чаще слушают музыку. Просто самих пользователей в Москве больше.\n",
    "\n",
    "Теперь сгруппируйте данные по дню недели и подсчитайте прослушивания в понедельник, среду и пятницу. Учтите, что в данных есть информация только о прослушиваниях только за эти дни.\n"
   ]
  },
  {
   "cell_type": "code",
   "execution_count": 19,
   "metadata": {
    "id": "uZMKjiJz_Zcu"
   },
   "outputs": [
    {
     "data": {
      "text/plain": [
       "day\n",
       "Friday       21840\n",
       "Monday       21354\n",
       "Wednesday    18059\n",
       "Name: city, dtype: int64"
      ]
     },
     "execution_count": 19,
     "metadata": {},
     "output_type": "execute_result"
    }
   ],
   "source": [
    "df.groupby('day')['city'].count()"
   ]
  },
  {
   "cell_type": "markdown",
   "metadata": {
    "id": "cC2tNrlL_Zcu"
   },
   "source": [
    "В среднем пользователи из двух городов менее активны по средам. Но картина может измениться, если рассмотреть каждый город в отдельности."
   ]
  },
  {
   "cell_type": "markdown",
   "metadata": {
    "id": "POzs8bGa_Zcu"
   },
   "source": [
    "Вы видели, как работает группировка по городу и по дням недели. Теперь напишите функцию, которая объединит два эти расчёта.\n",
    "\n",
    "Создайте функцию `number_tracks()`, которая посчитает прослушивания для заданного дня и города. Ей понадобятся два параметра:\n",
    "* день недели,\n",
    "* название города.\n",
    "\n",
    "В функции сохраните в переменную строки исходной таблицы, у которых значение:\n",
    "  * в колонке `day` равно параметру `day`,\n",
    "  * в колонке `city` равно параметру `city`.\n",
    "\n",
    "Для этого примените последовательную фильтрацию с логической индексацией.\n",
    "\n",
    "Затем посчитайте значения в столбце `user_id` получившейся таблицы. Результат сохраните в новую переменную. Верните эту переменную из функции."
   ]
  },
  {
   "cell_type": "code",
   "execution_count": 20,
   "metadata": {
    "id": "Nz3GdQB1_Zcu"
   },
   "outputs": [],
   "source": [
    "def number_tracks (day, city):\n",
    "    track_list = df[(df['day'] == day)&(df['city'] == city)]\n",
    "    track_list_count = track_list['user_id'].count()\n",
    "    return track_list_count\n",
    "\n",
    "\n",
    "            #if df[([df['day'] == day]) & (df['city'] == city)]:\n",
    "            #track_list.append(col)\n",
    "            #track_list_count \n",
    "    # <создание функции number_tracks()>\n",
    "# Объявляется функция с двумя параметрами: day, city.\n",
    "# В переменной track_list сохраняются те строки таблицы df, для которых \n",
    "# значение в столбце 'day' равно параметру day и одновременно значение\n",
    "# в столбце 'city' равно параметру city (используйте последовательную фильтрацию\n",
    "# с помощью логической индексации).\n",
    "# В переменной track_list_count сохраняется число значений столбца 'user_id',\n",
    "# рассчитанное методом count() для таблицы track_list.\n",
    "# Функция возвращает число - значение track_list_count.\n",
    "\n",
    "# Функция для подсчёта прослушиваний для конкретного города и дня.\n",
    "# С помощью последовательной фильтрации с логической индексацией она \n",
    "# сначала получит из исходной таблицы строки с нужным днём,\n",
    "# затем из результата отфильтрует строки с нужным городом,\n",
    "# методом count() посчитает количество значений в колонке user_id. \n",
    "# Это количество функция вернёт в качестве результата"
   ]
  },
  {
   "cell_type": "markdown",
   "metadata": {
    "id": "ytf7xFrFJQ2r"
   },
   "source": [
    "Вызовите `number_tracks()` шесть раз, меняя значение параметров — так, чтобы получить данные для каждого города в каждый из трёх дней."
   ]
  },
  {
   "cell_type": "code",
   "execution_count": 21,
   "metadata": {
    "id": "rJcRATNQ_Zcu"
   },
   "outputs": [
    {
     "data": {
      "text/plain": [
       "15740"
      ]
     },
     "execution_count": 21,
     "metadata": {},
     "output_type": "execute_result"
    }
   ],
   "source": [
    "number_tracks('Monday','Moscow')\n"
   ]
  },
  {
   "cell_type": "code",
   "execution_count": 22,
   "metadata": {
    "id": "hq_ncZ5T_Zcu"
   },
   "outputs": [
    {
     "data": {
      "text/plain": [
       "5614"
      ]
     },
     "execution_count": 22,
     "metadata": {},
     "output_type": "execute_result"
    }
   ],
   "source": [
    "number_tracks('Monday','Saint-Petersburg')"
   ]
  },
  {
   "cell_type": "code",
   "execution_count": 23,
   "metadata": {
    "id": "_NTy2VPU_Zcu"
   },
   "outputs": [
    {
     "data": {
      "text/plain": [
       "11056"
      ]
     },
     "execution_count": 23,
     "metadata": {},
     "output_type": "execute_result"
    }
   ],
   "source": [
    "number_tracks('Wednesday','Moscow')"
   ]
  },
  {
   "cell_type": "code",
   "execution_count": 24,
   "metadata": {
    "id": "j2y3TAwo_Zcu"
   },
   "outputs": [
    {
     "data": {
      "text/plain": [
       "7003"
      ]
     },
     "execution_count": 24,
     "metadata": {},
     "output_type": "execute_result"
    }
   ],
   "source": [
    "number_tracks('Wednesday','Saint-Petersburg')"
   ]
  },
  {
   "cell_type": "code",
   "execution_count": 25,
   "metadata": {
    "id": "vYDw5u_K_Zcu"
   },
   "outputs": [
    {
     "data": {
      "text/plain": [
       "15945"
      ]
     },
     "execution_count": 25,
     "metadata": {},
     "output_type": "execute_result"
    }
   ],
   "source": [
    "number_tracks('Friday','Moscow')"
   ]
  },
  {
   "cell_type": "code",
   "execution_count": 26,
   "metadata": {
    "id": "8_yzFtW3_Zcu"
   },
   "outputs": [
    {
     "data": {
      "text/plain": [
       "5895"
      ]
     },
     "execution_count": 26,
     "metadata": {},
     "output_type": "execute_result"
    }
   ],
   "source": [
    "number_tracks('Friday','Saint-Petersburg')"
   ]
  },
  {
   "cell_type": "markdown",
   "metadata": {
    "id": "7QXffbO-_Zcu"
   },
   "source": [
    "Создайте c помощью конструктора `pd.DataFrame` таблицу, где\n",
    "* названия колонок — `['city', 'monday', 'wednesday', 'friday']`;\n",
    "* данные — результаты, которые вы получили с помощью `number_tracks`."
   ]
  },
  {
   "cell_type": "code",
   "execution_count": 27,
   "metadata": {
    "id": "APAcLpOr_Zcu"
   },
   "outputs": [
    {
     "data": {
      "text/html": [
       "<div>\n",
       "<style scoped>\n",
       "    .dataframe tbody tr th:only-of-type {\n",
       "        vertical-align: middle;\n",
       "    }\n",
       "\n",
       "    .dataframe tbody tr th {\n",
       "        vertical-align: top;\n",
       "    }\n",
       "\n",
       "    .dataframe thead th {\n",
       "        text-align: right;\n",
       "    }\n",
       "</style>\n",
       "<table border=\"1\" class=\"dataframe\">\n",
       "  <thead>\n",
       "    <tr style=\"text-align: right;\">\n",
       "      <th></th>\n",
       "      <th>city</th>\n",
       "      <th>monday</th>\n",
       "      <th>wednesday</th>\n",
       "      <th>friday</th>\n",
       "    </tr>\n",
       "  </thead>\n",
       "  <tbody>\n",
       "    <tr>\n",
       "      <td>0</td>\n",
       "      <td>Moscow</td>\n",
       "      <td>15740</td>\n",
       "      <td>11056</td>\n",
       "      <td>15945</td>\n",
       "    </tr>\n",
       "    <tr>\n",
       "      <td>1</td>\n",
       "      <td>Saint-Petersburg</td>\n",
       "      <td>5614</td>\n",
       "      <td>7003</td>\n",
       "      <td>5895</td>\n",
       "    </tr>\n",
       "  </tbody>\n",
       "</table>\n",
       "</div>"
      ],
      "text/plain": [
       "               city  monday  wednesday  friday\n",
       "0            Moscow   15740      11056   15945\n",
       "1  Saint-Petersburg    5614       7003    5895"
      ]
     },
     "metadata": {},
     "output_type": "display_data"
    }
   ],
   "source": [
    "df1 = pd.DataFrame(columns = ['city', 'monday', 'wednesday', 'friday'],data = [['Moscow',15740,11056, 15945],['Saint-Petersburg',5614,7003,5895]])\n",
    "display(df1)                  "
   ]
  },
  {
   "cell_type": "markdown",
   "metadata": {
    "id": "-EgPIHYu_Zcu"
   },
   "source": [
    "**Выводы**\n",
    "\n",
    "Данные показывают разницу поведения пользователей:\n",
    "\n",
    "- В Москве пик прослушиваний приходится на понедельник и пятницу, а в среду заметен спад.\n",
    "- В Петербурге, наоборот, больше слушают музыку по средам. Активность в понедельник и пятницу здесь почти в равной мере уступает среде.\n",
    "\n",
    "Значит, данные говорят в пользу первой гипотезы."
   ]
  },
  {
   "cell_type": "markdown",
   "metadata": {
    "id": "atZAxtq4_Zcu"
   },
   "source": [
    "### Музыка в начале и в конце недели"
   ]
  },
  {
   "cell_type": "markdown",
   "metadata": {
    "id": "eXrQqXFH_Zcu"
   },
   "source": [
    "Согласно второй гипотезе, утром в понедельник в Москве преобладают одни жанры, а в Петербурге — другие. Так же и вечером пятницы преобладают разные жанры — в зависимости от города."
   ]
  },
  {
   "cell_type": "markdown",
   "metadata": {
    "id": "S8UcW6Hw_Zcu"
   },
   "source": [
    "Сохраните таблицы с данными в две переменные:\n",
    "* по Москве — в `moscow_general`;\n",
    "* по Санкт-Петербургу — в `spb_general`."
   ]
  },
  {
   "cell_type": "code",
   "execution_count": 28,
   "metadata": {
    "id": "qeaFfM_P_Zcu"
   },
   "outputs": [],
   "source": [
    "moscow_general = df[df['city'] == 'Moscow']\n"
   ]
  },
  {
   "cell_type": "code",
   "execution_count": 29,
   "metadata": {
    "id": "ORaVRKto_Zcu"
   },
   "outputs": [],
   "source": [
    "spb_general = df[df['city'] == 'Saint-Petersburg']\n"
   ]
  },
  {
   "cell_type": "markdown",
   "metadata": {
    "id": "MEJV-CX2_Zcu"
   },
   "source": [
    "Создайте функцию `genre_weekday()` с четырьмя параметрами:\n",
    "* таблица (датафрейм) с данными,\n",
    "* день недели,\n",
    "* начальная временная метка в формате 'hh:mm', \n",
    "* последняя временная метка в формате 'hh:mm'.\n",
    "\n",
    "Функция должна вернуть информацию о топ-10 жанров тех треков, которые прослушивали в указанный день, в промежутке между двумя отметками времени."
   ]
  },
  {
   "cell_type": "code",
   "execution_count": 30,
   "metadata": {
    "id": "laJT9BYl_Zcu"
   },
   "outputs": [],
   "source": [
    "def genre_weekday(table, day, time1, time2):\n",
    "    genre_df = table[(table['day'] == day) & (table['time'] > time1) & (table['time'] < time2)]\n",
    "    genre_df_count = genre_df.groupby(['genre'])['track'].count()\n",
    "    genre_df_sorted = genre_df_count.sort_values(ascending = False)\n",
    "    return genre_df_sorted.head(10)                                                                                        \n",
    "    \n",
    "                                                  \n",
    "                                                               \n",
    "                                                                 \n",
    "                                                                 \n",
    "                                                                 \n",
    "                                                                 \n",
    "                                                                 # Объявление функции                                                                  genre_weekday() с параметрами table, day, time1, time2,\n",
    "# которая возвращает информацию о самых популярных жанрах в указанный день в\n",
    "# заданное время:\n",
    "# 1) в переменную genre_df сохраняются те строки переданного датафрейма table, для\n",
    "#    которых одновременно:\n",
    "#    - значение в столбце day равно значению аргумента day\n",
    "#    - значение в столбце time больше значения аргумента time1\n",
    "#    - значение в столбце time меньше значения аргумента time2\n",
    "#    Используйте последовательную фильтрацию с помощью логической индексации.\n",
    "# 2) сгруппировать датафрейм genre_df по столбцу genre, взять один из его\n",
    "#    столбцов и посчитать методом count() количество записей для каждого из\n",
    "#    присутствующих жанров, получившийся Series записать в переменную\n",
    "#    genre_df_count\n",
    "# 3) отсортировать genre_df_count по убыванию встречаемости и сохранить\n",
    "#    в переменную genre_df_sorted\n",
    "# 4) вернуть Series из 10 первых значений genre_df_sorted, это будут топ-10\n",
    "#    популярных жанров (в указанный день, в заданное время)"
   ]
  },
  {
   "cell_type": "markdown",
   "metadata": {
    "id": "la2s2_PF_Zcu"
   },
   "source": [
    "Cравните результаты функции `genre_weekday()` для Москвы и Санкт-Петербурга в понедельник утром (с 7:00 до 11:00) и в пятницу вечером (с 17:00 до 23:00):"
   ]
  },
  {
   "cell_type": "code",
   "execution_count": 31,
   "metadata": {
    "id": "yz7itPUQ_Zcu"
   },
   "outputs": [
    {
     "data": {
      "text/plain": [
       "genre\n",
       "pop            781\n",
       "dance          549\n",
       "electronic     480\n",
       "rock           474\n",
       "hiphop         286\n",
       "ruspop         186\n",
       "world          181\n",
       "rusrap         175\n",
       "alternative    164\n",
       "unknown        161\n",
       "Name: track, dtype: int64"
      ]
     },
     "execution_count": 31,
     "metadata": {},
     "output_type": "execute_result"
    }
   ],
   "source": [
    "genre_weekday(moscow_general, 'Monday', '07:00', '11:00')"
   ]
  },
  {
   "cell_type": "code",
   "execution_count": 32,
   "metadata": {
    "id": "kwUcHPdy_Zcu"
   },
   "outputs": [
    {
     "data": {
      "text/plain": [
       "genre\n",
       "pop            218\n",
       "dance          182\n",
       "rock           162\n",
       "electronic     147\n",
       "hiphop          80\n",
       "ruspop          64\n",
       "alternative     58\n",
       "rusrap          55\n",
       "jazz            44\n",
       "classical       40\n",
       "Name: track, dtype: int64"
      ]
     },
     "execution_count": 32,
     "metadata": {},
     "output_type": "execute_result"
    }
   ],
   "source": [
    "genre_weekday(spb_general, 'Monday', '07:00', '11:00')"
   ]
  },
  {
   "cell_type": "code",
   "execution_count": 33,
   "metadata": {
    "id": "EzXVRE1o_Zcu"
   },
   "outputs": [
    {
     "data": {
      "text/plain": [
       "genre\n",
       "pop            713\n",
       "rock           517\n",
       "dance          495\n",
       "electronic     482\n",
       "hiphop         273\n",
       "world          208\n",
       "ruspop         170\n",
       "alternative    163\n",
       "classical      163\n",
       "rusrap         142\n",
       "Name: track, dtype: int64"
      ]
     },
     "execution_count": 33,
     "metadata": {},
     "output_type": "execute_result"
    }
   ],
   "source": [
    "genre_weekday(moscow_general, 'Friday', '17:00', '23:00')"
   ]
  },
  {
   "cell_type": "code",
   "execution_count": 34,
   "metadata": {
    "id": "JZaEKu5v_Zcu"
   },
   "outputs": [
    {
     "data": {
      "text/plain": [
       "genre\n",
       "pop            256\n",
       "rock           216\n",
       "electronic     216\n",
       "dance          210\n",
       "hiphop          97\n",
       "alternative     63\n",
       "jazz            61\n",
       "classical       60\n",
       "rusrap          59\n",
       "world           54\n",
       "Name: track, dtype: int64"
      ]
     },
     "execution_count": 34,
     "metadata": {},
     "output_type": "execute_result"
    }
   ],
   "source": [
    "genre_weekday(spb_general, 'Friday', '17:00', '23:00')"
   ]
  },
  {
   "cell_type": "markdown",
   "metadata": {
    "id": "wrCe4MNX_Zcu"
   },
   "source": [
    "**Выводы**\n",
    "\n",
    "Если сравнить топ-10 жанров в понедельник утром, можно сделать такие выводы:\n",
    "\n",
    "1. В Москве и Петербурге слушают похожую музыку. Единственное отличие — в московский рейтинг вошёл жанр “world”, а в петербургский — джаз и классика.\n",
    "\n",
    "2. В Москве пропущенных значений оказалось так много, что значение `'unknown'` заняло десятое место среди самых популярных жанров. Значит, пропущенные значения занимают существенную долю в данных и угрожают достоверности исследования.\n",
    "\n",
    "Вечер пятницы не меняет эту картину. Некоторые жанры поднимаются немного выше, другие спускаются, но в целом топ-10 остаётся тем же самым.\n",
    "\n",
    "Таким образом, вторая гипотеза подтвердилась лишь частично:\n",
    "* Пользователи слушают похожую музыку в начале недели и в конце.\n",
    "* Разница между Москвой и Петербургом не слишком выражена. В Москве чаще слушают русскую популярную музыку, в Петербурге — джаз.\n",
    "\n",
    "Однако пропуски в данных ставят под сомнение этот результат. В Москве их так много, что рейтинг топ-10 мог бы выглядеть иначе, если бы не утерянные  данные о жанрах."
   ]
  },
  {
   "cell_type": "markdown",
   "metadata": {
    "id": "JolODAqr_Zcu"
   },
   "source": [
    "### Жанровые предпочтения в Москве и Петербурге\n",
    "\n",
    "Гипотеза: Петербург — столица рэпа, музыку этого жанра там слушают чаще, чем в Москве.  А Москва — город контрастов, в котором, тем не менее, преобладает поп-музыка."
   ]
  },
  {
   "cell_type": "markdown",
   "metadata": {
    "id": "DlegSvaT_Zcu"
   },
   "source": [
    "Сгруппируйте таблицу `moscow_general` по жанру и посчитайте прослушивания треков каждого жанра методом `count()`. Затем отсортируйте результат в порядке убывания и сохраните его в таблице `moscow_genres`."
   ]
  },
  {
   "cell_type": "code",
   "execution_count": 35,
   "metadata": {
    "id": "r19lIPke_Zcu"
   },
   "outputs": [],
   "source": [
    "moscow_genres = moscow_general.groupby(['genre'])['genre'].count().sort_values(ascending = False)\n",
    "# одной строкой: группировка таблицы moscow_general по столбцу 'genre', \n",
    "# подсчёт числа значений 'genre' в этой группировке методом count(), \n",
    "# сортировка получившегося Series в порядке убывания и сохранение в moscow_genres"
   ]
  },
  {
   "cell_type": "markdown",
   "metadata": {
    "id": "6kMuomxTiIr8"
   },
   "source": [
    "Выведите на экран первые десять строк `moscow_genres`:"
   ]
  },
  {
   "cell_type": "code",
   "execution_count": 36,
   "metadata": {
    "id": "WhCSooF8_Zcv"
   },
   "outputs": [
    {
     "data": {
      "text/plain": [
       "genre\n",
       "pop            5892\n",
       "dance          4435\n",
       "rock           3965\n",
       "electronic     3786\n",
       "hiphop         2096\n",
       "classical      1616\n",
       "world          1432\n",
       "alternative    1379\n",
       "ruspop         1372\n",
       "rusrap         1161\n",
       "Name: genre, dtype: int64"
      ]
     },
     "metadata": {},
     "output_type": "display_data"
    }
   ],
   "source": [
    "display(moscow_genres.head(10))"
   ]
  },
  {
   "cell_type": "markdown",
   "metadata": {
    "id": "cnPG2vnN_Zcv"
   },
   "source": [
    "Теперь повторите то же и для Петербурга.\n",
    "\n",
    "Сгруппируйте таблицу `spb_general` по жанру. Посчитайте прослушивания треков каждого жанра. Результат отсортируйте в порядке убывания и сохраните в таблице `spb_genres`:\n"
   ]
  },
  {
   "cell_type": "code",
   "execution_count": 37,
   "metadata": {
    "id": "gluLIpE7_Zcv"
   },
   "outputs": [],
   "source": [
    "spb_genres = spb_general.groupby(['genre'])['genre'].count().sort_values(ascending = False)"
   ]
  },
  {
   "cell_type": "markdown",
   "metadata": {
    "id": "5Doha_ODgyQ8"
   },
   "source": [
    "Выведите на экран первые десять строк `spb_genres`:"
   ]
  },
  {
   "cell_type": "code",
   "execution_count": 38,
   "metadata": {
    "id": "uaGJHjVU_Zcv"
   },
   "outputs": [
    {
     "data": {
      "text/plain": [
       "genre\n",
       "pop            2431\n",
       "dance          1932\n",
       "rock           1879\n",
       "electronic     1736\n",
       "hiphop          960\n",
       "alternative     649\n",
       "classical       646\n",
       "rusrap          564\n",
       "ruspop          538\n",
       "world           515\n",
       "Name: genre, dtype: int64"
      ]
     },
     "metadata": {},
     "output_type": "display_data"
    }
   ],
   "source": [
    "display(spb_genres.head(10))"
   ]
  },
  {
   "cell_type": "markdown",
   "metadata": {
    "id": "RY51YJYu_Zcv"
   },
   "source": [
    "**Выводы**"
   ]
  },
  {
   "cell_type": "markdown",
   "metadata": {
    "id": "nVhnJEm__Zcv"
   },
   "source": [
    "Гипотеза частично подтвердилась:\n",
    "* Поп-музыка — самый популярный жанр в Москве, как и предполагала гипотеза. Более того, в топ-10 жанров встречается близкий жанр — русская популярная музыка.\n",
    "* Вопреки ожиданиям, рэп одинаково популярен в Москве и Петербурге. \n"
   ]
  },
  {
   "cell_type": "markdown",
   "metadata": {
    "id": "ykKQ0N65_Zcv"
   },
   "source": [
    "## Итоги исследования"
   ]
  },
  {
   "cell_type": "markdown",
   "metadata": {
    "id": "tjUwbHb3_Zcv"
   },
   "source": [
    "Вы проверили три гипотезы и установили:\n",
    "\n",
    "1. День недели по-разному влияет на активность пользователей в Москве и Петербурге. \n",
    "\n",
    "Первая гипотеза полностью подтвердилась.\n",
    "\n",
    "2. Музыкальные предпочтения не сильно меняются в течение недели — будь то Москва или Петербург. Небольшие различия заметны в начале недели, по понедельникам:\n",
    "* в Москве слушают музыку жанра “world”,\n",
    "* в Петербурге — джаз и классику.\n",
    "\n",
    "Таким образом, вторая гипотеза подтвердилась лишь отчасти. Этот результат мог оказаться иным, если бы не пропуски в данных.\n",
    "\n",
    "3. Во вкусах пользователей Москвы и Петербурга больше общего чем различий. Вопреки ожиданиям, предпочтения жанров в Петербурге напоминают московские.\n",
    "\n",
    "Третья гипотеза не подтвердилась. Если различия в предпочтениях и существуют, на основной массе пользователей они незаметны.\n",
    "\n",
    "**На практике исследования содержат проверки статистических гипотез.**\n",
    "Из данных одного сервиса не всегда можно сделать вывод о всех жителях города.\n",
    "Проверки статистических гипотез покажут, насколько они достоверны, исходя из имеющихся данных. \n",
    "С методами проверок гипотез вы ещё познакомитесь в следующих темах."
   ]
  }
 ],
 "metadata": {
  "ExecuteTimeLog": [
   {
    "duration": 592,
    "start_time": "2022-01-24T15:40:16.405Z"
   },
   {
    "duration": 207,
    "start_time": "2022-01-24T15:50:04.676Z"
   },
   {
    "duration": 66,
    "start_time": "2022-01-24T15:50:07.860Z"
   },
   {
    "duration": 60,
    "start_time": "2022-01-24T15:51:06.694Z"
   },
   {
    "duration": 58,
    "start_time": "2022-01-24T15:51:10.660Z"
   },
   {
    "duration": 202,
    "start_time": "2022-01-24T15:52:26.891Z"
   },
   {
    "duration": 1405,
    "start_time": "2022-01-24T15:52:34.619Z"
   },
   {
    "duration": 71,
    "start_time": "2022-01-24T15:53:01.950Z"
   },
   {
    "duration": 62,
    "start_time": "2022-01-24T15:53:14.065Z"
   },
   {
    "duration": 69,
    "start_time": "2022-01-24T15:53:24.282Z"
   },
   {
    "duration": 61,
    "start_time": "2022-01-24T15:53:38.682Z"
   },
   {
    "duration": 1442,
    "start_time": "2022-01-24T15:53:41.722Z"
   },
   {
    "duration": 67,
    "start_time": "2022-01-24T15:54:39.586Z"
   },
   {
    "duration": 129,
    "start_time": "2022-01-24T15:55:39.089Z"
   },
   {
    "duration": 7,
    "start_time": "2022-01-24T15:55:43.444Z"
   },
   {
    "duration": 15,
    "start_time": "2022-01-24T15:55:53.251Z"
   },
   {
    "duration": 8,
    "start_time": "2022-01-24T15:57:59.968Z"
   },
   {
    "duration": 8,
    "start_time": "2022-01-24T15:58:11.743Z"
   },
   {
    "duration": 7,
    "start_time": "2022-01-24T15:58:25.784Z"
   },
   {
    "duration": 3,
    "start_time": "2022-01-24T16:00:13.447Z"
   },
   {
    "duration": 8,
    "start_time": "2022-01-24T16:00:27.254Z"
   },
   {
    "duration": 9,
    "start_time": "2022-01-24T16:01:57.982Z"
   },
   {
    "duration": 8,
    "start_time": "2022-01-24T16:02:00.077Z"
   },
   {
    "duration": 205,
    "start_time": "2022-01-24T16:02:22.932Z"
   },
   {
    "duration": 7,
    "start_time": "2022-01-24T16:02:26.101Z"
   },
   {
    "duration": 8,
    "start_time": "2022-01-24T16:02:34.957Z"
   },
   {
    "duration": 4,
    "start_time": "2022-01-24T16:13:02.462Z"
   },
   {
    "duration": 46,
    "start_time": "2022-01-24T16:15:24.174Z"
   },
   {
    "duration": 4,
    "start_time": "2022-01-24T16:15:25.861Z"
   },
   {
    "duration": 49,
    "start_time": "2022-01-24T16:15:48.757Z"
   },
   {
    "duration": 4,
    "start_time": "2022-01-24T16:15:50.229Z"
   },
   {
    "duration": 4,
    "start_time": "2022-01-24T16:15:52.756Z"
   },
   {
    "duration": 46,
    "start_time": "2022-01-24T16:15:55.428Z"
   },
   {
    "duration": 4,
    "start_time": "2022-01-24T16:15:57.589Z"
   },
   {
    "duration": 16,
    "start_time": "2022-01-24T16:16:42.524Z"
   },
   {
    "duration": 3,
    "start_time": "2022-01-24T16:16:43.988Z"
   },
   {
    "duration": 181,
    "start_time": "2022-01-24T16:17:16.124Z"
   },
   {
    "duration": 201,
    "start_time": "2022-01-24T16:17:51.772Z"
   },
   {
    "duration": 179,
    "start_time": "2022-01-24T16:17:57.931Z"
   },
   {
    "duration": 194,
    "start_time": "2022-01-24T16:20:56.924Z"
   },
   {
    "duration": 196,
    "start_time": "2022-01-24T16:21:34.443Z"
   },
   {
    "duration": 195,
    "start_time": "2022-01-24T16:22:39.065Z"
   },
   {
    "duration": 63,
    "start_time": "2022-01-24T16:23:25.880Z"
   },
   {
    "duration": 64,
    "start_time": "2022-01-24T16:23:29.520Z"
   },
   {
    "duration": 29,
    "start_time": "2022-01-24T16:23:31.307Z"
   },
   {
    "duration": 23,
    "start_time": "2022-01-24T16:23:46.194Z"
   },
   {
    "duration": 23,
    "start_time": "2022-01-24T16:24:00.248Z"
   },
   {
    "duration": 25,
    "start_time": "2022-01-24T16:25:22.791Z"
   },
   {
    "duration": 22,
    "start_time": "2022-01-24T16:26:05.590Z"
   },
   {
    "duration": 203,
    "start_time": "2022-01-24T16:32:01.811Z"
   },
   {
    "duration": 15,
    "start_time": "2022-01-24T16:32:21.987Z"
   },
   {
    "duration": 14,
    "start_time": "2022-01-24T16:32:23.858Z"
   },
   {
    "duration": 29,
    "start_time": "2022-01-24T16:32:33.331Z"
   },
   {
    "duration": 91,
    "start_time": "2022-01-24T16:32:53.386Z"
   },
   {
    "duration": 23,
    "start_time": "2022-01-24T16:32:55.235Z"
   },
   {
    "duration": 56,
    "start_time": "2022-01-24T16:35:07.569Z"
   },
   {
    "duration": 23,
    "start_time": "2022-01-24T16:35:09.331Z"
   },
   {
    "duration": 22,
    "start_time": "2022-01-24T16:36:46.916Z"
   },
   {
    "duration": 28,
    "start_time": "2022-01-24T16:36:48.906Z"
   },
   {
    "duration": 230,
    "start_time": "2022-01-24T16:37:30.033Z"
   },
   {
    "duration": 61,
    "start_time": "2022-01-24T16:37:35.600Z"
   },
   {
    "duration": 73,
    "start_time": "2022-01-24T16:39:35.783Z"
   },
   {
    "duration": 56,
    "start_time": "2022-01-24T16:39:50.152Z"
   },
   {
    "duration": 45,
    "start_time": "2022-01-24T16:39:52.030Z"
   },
   {
    "duration": 214,
    "start_time": "2022-01-24T16:41:02.213Z"
   },
   {
    "duration": 38,
    "start_time": "2022-01-24T16:41:13.326Z"
   },
   {
    "duration": 38,
    "start_time": "2022-01-24T16:41:22.175Z"
   },
   {
    "duration": 45,
    "start_time": "2022-01-24T16:41:40.612Z"
   },
   {
    "duration": 3,
    "start_time": "2022-01-24T16:46:36.187Z"
   },
   {
    "duration": 3,
    "start_time": "2022-01-24T16:50:18.976Z"
   },
   {
    "duration": 3,
    "start_time": "2022-01-24T16:50:57.423Z"
   },
   {
    "duration": 2,
    "start_time": "2022-01-24T16:52:00.785Z"
   },
   {
    "duration": 205,
    "start_time": "2022-01-24T16:53:29.319Z"
   },
   {
    "duration": 193,
    "start_time": "2022-01-24T16:58:37.109Z"
   },
   {
    "duration": 4,
    "start_time": "2022-01-24T16:58:40.725Z"
   },
   {
    "duration": 396,
    "start_time": "2022-01-24T16:58:42.157Z"
   },
   {
    "duration": 3,
    "start_time": "2022-01-24T16:59:08.772Z"
   },
   {
    "duration": 386,
    "start_time": "2022-01-24T16:59:10.845Z"
   },
   {
    "duration": 4,
    "start_time": "2022-01-24T17:00:12.796Z"
   },
   {
    "duration": 9,
    "start_time": "2022-01-24T17:00:14.196Z"
   },
   {
    "duration": 4,
    "start_time": "2022-01-24T17:00:51.212Z"
   },
   {
    "duration": 10,
    "start_time": "2022-01-24T17:01:08.611Z"
   },
   {
    "duration": 5,
    "start_time": "2022-01-24T17:01:10.092Z"
   },
   {
    "duration": 39,
    "start_time": "2022-01-24T17:01:51.816Z"
   },
   {
    "duration": 474,
    "start_time": "2022-01-24T19:21:48.198Z"
   },
   {
    "duration": 2003,
    "start_time": "2022-01-24T19:22:20.729Z"
   },
   {
    "duration": 479,
    "start_time": "2022-01-24T19:22:43.306Z"
   },
   {
    "duration": 511,
    "start_time": "2022-01-24T19:24:04.226Z"
   },
   {
    "duration": 476,
    "start_time": "2022-01-24T19:25:11.074Z"
   },
   {
    "duration": 39,
    "start_time": "2022-01-24T19:25:42.115Z"
   },
   {
    "duration": 504,
    "start_time": "2022-01-24T19:26:16.709Z"
   },
   {
    "duration": 185,
    "start_time": "2022-01-24T19:27:12.167Z"
   },
   {
    "duration": 191,
    "start_time": "2022-01-24T19:28:18.128Z"
   },
   {
    "duration": 193,
    "start_time": "2022-01-24T19:28:35.870Z"
   },
   {
    "duration": 196,
    "start_time": "2022-01-24T19:28:54.182Z"
   },
   {
    "duration": 186,
    "start_time": "2022-01-24T19:29:13.074Z"
   },
   {
    "duration": 198,
    "start_time": "2022-01-24T19:29:51.845Z"
   },
   {
    "duration": 177,
    "start_time": "2022-01-24T19:30:54.437Z"
   },
   {
    "duration": 192,
    "start_time": "2022-01-24T19:31:53.485Z"
   },
   {
    "duration": 205,
    "start_time": "2022-01-24T19:32:24.901Z"
   },
   {
    "duration": 1093,
    "start_time": "2022-01-24T19:32:54.005Z"
   },
   {
    "duration": 194,
    "start_time": "2022-01-24T19:34:16.132Z"
   },
   {
    "duration": 190,
    "start_time": "2022-01-24T19:34:40.324Z"
   },
   {
    "duration": 202,
    "start_time": "2022-01-24T19:34:48.980Z"
   },
   {
    "duration": 2516,
    "start_time": "2022-01-24T19:35:13.947Z"
   },
   {
    "duration": 188,
    "start_time": "2022-01-24T19:37:17.433Z"
   },
   {
    "duration": 4325,
    "start_time": "2022-01-24T19:39:02.851Z"
   },
   {
    "duration": 31,
    "start_time": "2022-01-24T19:39:19.098Z"
   },
   {
    "duration": 32,
    "start_time": "2022-01-24T19:40:13.201Z"
   },
   {
    "duration": 59,
    "start_time": "2022-01-24T19:48:26.205Z"
   },
   {
    "duration": 5,
    "start_time": "2022-01-24T19:50:25.572Z"
   },
   {
    "duration": 397,
    "start_time": "2022-01-24T19:50:48.946Z"
   },
   {
    "duration": 3,
    "start_time": "2022-01-24T19:52:20.746Z"
   },
   {
    "duration": 407,
    "start_time": "2022-01-24T19:52:25.003Z"
   },
   {
    "duration": 4,
    "start_time": "2022-01-24T20:05:17.791Z"
   },
   {
    "duration": 384,
    "start_time": "2022-01-24T20:05:22.888Z"
   },
   {
    "duration": 4,
    "start_time": "2022-01-24T20:11:01.924Z"
   },
   {
    "duration": 2574,
    "start_time": "2022-01-24T20:11:06.836Z"
   },
   {
    "duration": 4,
    "start_time": "2022-01-24T20:13:33.065Z"
   },
   {
    "duration": 29,
    "start_time": "2022-01-24T20:13:35.260Z"
   },
   {
    "duration": 27,
    "start_time": "2022-01-24T20:14:06.185Z"
   },
   {
    "duration": 6,
    "start_time": "2022-01-24T20:16:12.305Z"
   },
   {
    "duration": 6,
    "start_time": "2022-01-24T20:16:14.416Z"
   },
   {
    "duration": 5,
    "start_time": "2022-01-24T20:16:58.007Z"
   },
   {
    "duration": 411,
    "start_time": "2022-01-24T20:17:00.680Z"
   },
   {
    "duration": 4,
    "start_time": "2022-01-24T20:17:09.515Z"
   },
   {
    "duration": 6,
    "start_time": "2022-01-24T20:17:13.920Z"
   },
   {
    "duration": 72,
    "start_time": "2022-01-24T20:18:16.140Z"
   },
   {
    "duration": 4,
    "start_time": "2022-01-24T20:18:27.047Z"
   },
   {
    "duration": 6,
    "start_time": "2022-01-24T20:18:29.815Z"
   },
   {
    "duration": 10,
    "start_time": "2022-01-24T20:19:30.637Z"
   },
   {
    "duration": 10,
    "start_time": "2022-01-24T20:19:59.557Z"
   },
   {
    "duration": 66,
    "start_time": "2022-01-25T16:52:28.371Z"
   },
   {
    "duration": 63,
    "start_time": "2022-01-25T16:52:45.162Z"
   },
   {
    "duration": 52,
    "start_time": "2022-01-25T16:53:32.401Z"
   },
   {
    "duration": 5,
    "start_time": "2022-01-25T16:53:48.860Z"
   },
   {
    "duration": 9,
    "start_time": "2022-01-25T16:53:51.210Z"
   },
   {
    "duration": 5,
    "start_time": "2022-01-25T16:55:23.871Z"
   },
   {
    "duration": 410,
    "start_time": "2022-01-25T16:55:26.368Z"
   },
   {
    "duration": 4,
    "start_time": "2022-01-25T17:00:40.205Z"
   },
   {
    "duration": 348,
    "start_time": "2022-01-25T17:00:42.446Z"
   },
   {
    "duration": 174,
    "start_time": "2022-01-25T17:03:47.860Z"
   },
   {
    "duration": 165,
    "start_time": "2022-01-25T17:04:44.314Z"
   },
   {
    "duration": 186,
    "start_time": "2022-01-25T17:05:21.426Z"
   },
   {
    "duration": 615,
    "start_time": "2022-01-25T17:06:36.696Z"
   },
   {
    "duration": 145,
    "start_time": "2022-01-25T17:06:37.313Z"
   },
   {
    "duration": 12,
    "start_time": "2022-01-25T17:06:37.460Z"
   },
   {
    "duration": 43,
    "start_time": "2022-01-25T17:06:37.474Z"
   },
   {
    "duration": 11,
    "start_time": "2022-01-25T17:06:37.519Z"
   },
   {
    "duration": 38,
    "start_time": "2022-01-25T17:06:37.532Z"
   },
   {
    "duration": 3,
    "start_time": "2022-01-25T17:06:37.572Z"
   },
   {
    "duration": 33,
    "start_time": "2022-01-25T17:06:37.578Z"
   },
   {
    "duration": 33,
    "start_time": "2022-01-25T17:06:37.613Z"
   },
   {
    "duration": 31,
    "start_time": "2022-01-25T17:06:37.648Z"
   },
   {
    "duration": 70,
    "start_time": "2022-01-25T17:06:37.681Z"
   },
   {
    "duration": 83,
    "start_time": "2022-01-25T17:06:37.752Z"
   },
   {
    "duration": 62,
    "start_time": "2022-01-25T17:06:37.836Z"
   },
   {
    "duration": 40,
    "start_time": "2022-01-25T17:06:37.899Z"
   },
   {
    "duration": 3,
    "start_time": "2022-01-25T17:06:37.941Z"
   },
   {
    "duration": 15,
    "start_time": "2022-01-25T17:06:37.945Z"
   },
   {
    "duration": 57,
    "start_time": "2022-01-25T17:06:37.961Z"
   },
   {
    "duration": 10,
    "start_time": "2022-01-25T17:06:38.019Z"
   },
   {
    "duration": 13,
    "start_time": "2022-01-25T17:06:38.030Z"
   },
   {
    "duration": 5,
    "start_time": "2022-01-25T17:06:38.044Z"
   },
   {
    "duration": 362,
    "start_time": "2022-01-25T17:06:38.050Z"
   },
   {
    "duration": 10153378,
    "start_time": "2022-01-25T14:17:25.036Z"
   },
   {
    "duration": 10153375,
    "start_time": "2022-01-25T14:17:25.040Z"
   },
   {
    "duration": 10153371,
    "start_time": "2022-01-25T14:17:25.045Z"
   },
   {
    "duration": 10153369,
    "start_time": "2022-01-25T14:17:25.048Z"
   },
   {
    "duration": 10153367,
    "start_time": "2022-01-25T14:17:25.050Z"
   },
   {
    "duration": 12,
    "start_time": "2022-01-25T17:06:44.058Z"
   },
   {
    "duration": 14,
    "start_time": "2022-01-25T17:06:46.457Z"
   },
   {
    "duration": 13,
    "start_time": "2022-01-25T17:07:06.281Z"
   },
   {
    "duration": 5,
    "start_time": "2022-01-25T17:50:55.253Z"
   },
   {
    "duration": 360,
    "start_time": "2022-01-25T17:51:10.284Z"
   },
   {
    "duration": 61,
    "start_time": "2022-01-25T17:52:32.358Z"
   },
   {
    "duration": 4,
    "start_time": "2022-01-25T17:53:07.460Z"
   },
   {
    "duration": 1353,
    "start_time": "2022-01-25T17:53:09.571Z"
   },
   {
    "duration": 4,
    "start_time": "2022-01-25T17:54:41.210Z"
   },
   {
    "duration": 1449,
    "start_time": "2022-01-25T17:54:44.018Z"
   },
   {
    "duration": 4,
    "start_time": "2022-01-25T17:55:58.272Z"
   },
   {
    "duration": 1897,
    "start_time": "2022-01-25T17:56:00.322Z"
   },
   {
    "duration": 4,
    "start_time": "2022-01-25T17:57:50.223Z"
   },
   {
    "duration": 2028,
    "start_time": "2022-01-25T17:57:52.604Z"
   },
   {
    "duration": 4,
    "start_time": "2022-01-25T17:58:25.471Z"
   },
   {
    "duration": 1393,
    "start_time": "2022-01-25T17:58:30.375Z"
   },
   {
    "duration": 4,
    "start_time": "2022-01-25T18:00:12.343Z"
   },
   {
    "duration": 1375,
    "start_time": "2022-01-25T18:00:17.638Z"
   },
   {
    "duration": 4,
    "start_time": "2022-01-25T18:01:26.565Z"
   },
   {
    "duration": 1450,
    "start_time": "2022-01-25T18:01:29.421Z"
   },
   {
    "duration": 3,
    "start_time": "2022-01-25T18:02:55.291Z"
   },
   {
    "duration": 1428,
    "start_time": "2022-01-25T18:02:57.700Z"
   },
   {
    "duration": 4,
    "start_time": "2022-01-25T18:04:29.186Z"
   },
   {
    "duration": 10153335,
    "start_time": "2022-01-25T15:15:35.924Z"
   },
   {
    "duration": 228,
    "start_time": "2022-01-25T18:05:53.207Z"
   },
   {
    "duration": 4,
    "start_time": "2022-01-25T18:05:59.547Z"
   },
   {
    "duration": 408,
    "start_time": "2022-01-25T18:06:03.834Z"
   },
   {
    "duration": 599,
    "start_time": "2022-01-25T18:06:16.613Z"
   },
   {
    "duration": 150,
    "start_time": "2022-01-25T18:06:17.214Z"
   },
   {
    "duration": 17,
    "start_time": "2022-01-25T18:06:17.367Z"
   },
   {
    "duration": 33,
    "start_time": "2022-01-25T18:06:17.386Z"
   },
   {
    "duration": 4,
    "start_time": "2022-01-25T18:06:17.421Z"
   },
   {
    "duration": 30,
    "start_time": "2022-01-25T18:06:17.427Z"
   },
   {
    "duration": 12,
    "start_time": "2022-01-25T18:06:17.459Z"
   },
   {
    "duration": 43,
    "start_time": "2022-01-25T18:06:17.473Z"
   },
   {
    "duration": 18,
    "start_time": "2022-01-25T18:06:17.518Z"
   },
   {
    "duration": 24,
    "start_time": "2022-01-25T18:06:17.538Z"
   },
   {
    "duration": 90,
    "start_time": "2022-01-25T18:06:17.564Z"
   },
   {
    "duration": 85,
    "start_time": "2022-01-25T18:06:17.656Z"
   },
   {
    "duration": 64,
    "start_time": "2022-01-25T18:06:17.743Z"
   },
   {
    "duration": 44,
    "start_time": "2022-01-25T18:06:17.809Z"
   },
   {
    "duration": 3,
    "start_time": "2022-01-25T18:06:17.854Z"
   },
   {
    "duration": 11,
    "start_time": "2022-01-25T18:06:17.859Z"
   },
   {
    "duration": 59,
    "start_time": "2022-01-25T18:06:17.873Z"
   },
   {
    "duration": 10,
    "start_time": "2022-01-25T18:06:17.934Z"
   },
   {
    "duration": 10,
    "start_time": "2022-01-25T18:06:17.946Z"
   },
   {
    "duration": 4,
    "start_time": "2022-01-25T18:06:21.778Z"
   },
   {
    "duration": 16701,
    "start_time": "2022-01-25T18:06:24.930Z"
   },
   {
    "duration": 5,
    "start_time": "2022-01-25T18:10:40.054Z"
   },
   {
    "duration": 214,
    "start_time": "2022-01-25T18:10:58.236Z"
   },
   {
    "duration": 4,
    "start_time": "2022-01-25T18:11:06.679Z"
   },
   {
    "duration": 337,
    "start_time": "2022-01-25T18:11:10.431Z"
   },
   {
    "duration": 578,
    "start_time": "2022-01-25T18:11:19.830Z"
   },
   {
    "duration": 169,
    "start_time": "2022-01-25T18:11:20.410Z"
   },
   {
    "duration": 23,
    "start_time": "2022-01-25T18:11:20.581Z"
   },
   {
    "duration": 25,
    "start_time": "2022-01-25T18:11:20.606Z"
   },
   {
    "duration": 4,
    "start_time": "2022-01-25T18:11:20.633Z"
   },
   {
    "duration": 28,
    "start_time": "2022-01-25T18:11:20.638Z"
   },
   {
    "duration": 33,
    "start_time": "2022-01-25T18:11:20.668Z"
   },
   {
    "duration": 27,
    "start_time": "2022-01-25T18:11:20.703Z"
   },
   {
    "duration": 18,
    "start_time": "2022-01-25T18:11:20.732Z"
   },
   {
    "duration": 53,
    "start_time": "2022-01-25T18:11:20.752Z"
   },
   {
    "duration": 74,
    "start_time": "2022-01-25T18:11:20.806Z"
   },
   {
    "duration": 70,
    "start_time": "2022-01-25T18:11:20.881Z"
   },
   {
    "duration": 63,
    "start_time": "2022-01-25T18:11:20.953Z"
   },
   {
    "duration": 44,
    "start_time": "2022-01-25T18:11:21.018Z"
   },
   {
    "duration": 4,
    "start_time": "2022-01-25T18:11:21.064Z"
   },
   {
    "duration": 33,
    "start_time": "2022-01-25T18:11:21.071Z"
   },
   {
    "duration": 42,
    "start_time": "2022-01-25T18:11:21.107Z"
   },
   {
    "duration": 11,
    "start_time": "2022-01-25T18:11:21.151Z"
   },
   {
    "duration": 36,
    "start_time": "2022-01-25T18:11:21.165Z"
   },
   {
    "duration": 4,
    "start_time": "2022-01-25T18:11:27.518Z"
   },
   {
    "duration": 16744,
    "start_time": "2022-01-25T18:11:33.518Z"
   },
   {
    "duration": 10153290,
    "start_time": "2022-01-25T15:22:36.974Z"
   },
   {
    "duration": 4,
    "start_time": "2022-01-25T18:12:49.335Z"
   },
   {
    "duration": 209,
    "start_time": "2022-01-25T18:13:07.903Z"
   },
   {
    "duration": 4,
    "start_time": "2022-01-25T18:13:25.769Z"
   },
   {
    "duration": 4,
    "start_time": "2022-01-25T18:13:56.180Z"
   },
   {
    "duration": 338,
    "start_time": "2022-01-25T18:14:01.153Z"
   },
   {
    "duration": 2423,
    "start_time": "2022-01-25T18:14:19.887Z"
   },
   {
    "duration": 145,
    "start_time": "2022-01-25T18:14:22.312Z"
   },
   {
    "duration": 17,
    "start_time": "2022-01-25T18:14:22.460Z"
   },
   {
    "duration": 32,
    "start_time": "2022-01-25T18:14:22.479Z"
   },
   {
    "duration": 5,
    "start_time": "2022-01-25T18:14:22.513Z"
   },
   {
    "duration": 26,
    "start_time": "2022-01-25T18:14:22.519Z"
   },
   {
    "duration": 11,
    "start_time": "2022-01-25T18:14:22.547Z"
   },
   {
    "duration": 38,
    "start_time": "2022-01-25T18:14:22.561Z"
   },
   {
    "duration": 20,
    "start_time": "2022-01-25T18:14:22.602Z"
   },
   {
    "duration": 27,
    "start_time": "2022-01-25T18:14:22.624Z"
   },
   {
    "duration": 82,
    "start_time": "2022-01-25T18:14:22.652Z"
   },
   {
    "duration": 80,
    "start_time": "2022-01-25T18:14:22.736Z"
   },
   {
    "duration": 58,
    "start_time": "2022-01-25T18:14:22.818Z"
   },
   {
    "duration": 57,
    "start_time": "2022-01-25T18:14:22.878Z"
   },
   {
    "duration": 3,
    "start_time": "2022-01-25T18:14:22.937Z"
   },
   {
    "duration": 13,
    "start_time": "2022-01-25T18:14:22.942Z"
   },
   {
    "duration": 57,
    "start_time": "2022-01-25T18:14:22.957Z"
   },
   {
    "duration": 10,
    "start_time": "2022-01-25T18:14:23.016Z"
   },
   {
    "duration": 9,
    "start_time": "2022-01-25T18:14:23.028Z"
   },
   {
    "duration": 4,
    "start_time": "2022-01-25T18:14:23.039Z"
   },
   {
    "duration": 10153329,
    "start_time": "2022-01-25T15:25:27.160Z"
   },
   {
    "duration": 10153326,
    "start_time": "2022-01-25T15:25:27.164Z"
   },
   {
    "duration": 10153321,
    "start_time": "2022-01-25T15:25:27.170Z"
   },
   {
    "duration": 10153320,
    "start_time": "2022-01-25T15:25:27.172Z"
   },
   {
    "duration": 10153316,
    "start_time": "2022-01-25T15:25:27.176Z"
   },
   {
    "duration": 10153313,
    "start_time": "2022-01-25T15:25:27.180Z"
   },
   {
    "duration": 10153307,
    "start_time": "2022-01-25T15:25:27.187Z"
   },
   {
    "duration": 10153305,
    "start_time": "2022-01-25T15:25:27.190Z"
   },
   {
    "duration": 10153304,
    "start_time": "2022-01-25T15:25:27.192Z"
   },
   {
    "duration": 10153301,
    "start_time": "2022-01-25T15:25:27.196Z"
   },
   {
    "duration": 10153296,
    "start_time": "2022-01-25T15:25:27.202Z"
   },
   {
    "duration": 10153294,
    "start_time": "2022-01-25T15:25:27.205Z"
   },
   {
    "duration": 10153293,
    "start_time": "2022-01-25T15:25:27.207Z"
   },
   {
    "duration": 10153290,
    "start_time": "2022-01-25T15:25:27.211Z"
   },
   {
    "duration": 10153285,
    "start_time": "2022-01-25T15:25:27.217Z"
   },
   {
    "duration": 10153283,
    "start_time": "2022-01-25T15:25:27.220Z"
   },
   {
    "duration": 10153281,
    "start_time": "2022-01-25T15:25:27.222Z"
   },
   {
    "duration": 10153279,
    "start_time": "2022-01-25T15:25:27.225Z"
   },
   {
    "duration": 214,
    "start_time": "2022-01-25T18:15:02.086Z"
   },
   {
    "duration": 166,
    "start_time": "2022-01-25T18:16:26.644Z"
   },
   {
    "duration": 4,
    "start_time": "2022-01-25T18:16:36.922Z"
   },
   {
    "duration": 344,
    "start_time": "2022-01-25T18:16:39.236Z"
   },
   {
    "duration": 334,
    "start_time": "2022-01-25T18:18:13.675Z"
   },
   {
    "duration": 180,
    "start_time": "2022-01-25T18:18:24.727Z"
   },
   {
    "duration": 603,
    "start_time": "2022-01-25T18:18:33.078Z"
   },
   {
    "duration": 144,
    "start_time": "2022-01-25T18:18:34.034Z"
   },
   {
    "duration": 17,
    "start_time": "2022-01-25T18:18:34.371Z"
   },
   {
    "duration": 24,
    "start_time": "2022-01-25T18:18:34.666Z"
   },
   {
    "duration": 4,
    "start_time": "2022-01-25T18:18:35.306Z"
   },
   {
    "duration": 25,
    "start_time": "2022-01-25T18:18:35.570Z"
   },
   {
    "duration": 4,
    "start_time": "2022-01-25T18:18:35.810Z"
   },
   {
    "duration": 23,
    "start_time": "2022-01-25T18:18:36.502Z"
   },
   {
    "duration": 17,
    "start_time": "2022-01-25T18:18:37.394Z"
   },
   {
    "duration": 23,
    "start_time": "2022-01-25T18:18:37.756Z"
   },
   {
    "duration": 57,
    "start_time": "2022-01-25T18:18:38.098Z"
   },
   {
    "duration": 74,
    "start_time": "2022-01-25T18:18:38.465Z"
   },
   {
    "duration": 53,
    "start_time": "2022-01-25T18:18:39.113Z"
   },
   {
    "duration": 40,
    "start_time": "2022-01-25T18:18:39.673Z"
   },
   {
    "duration": 3,
    "start_time": "2022-01-25T18:18:40.050Z"
   },
   {
    "duration": 10,
    "start_time": "2022-01-25T18:18:40.419Z"
   },
   {
    "duration": 39,
    "start_time": "2022-01-25T18:18:40.761Z"
   },
   {
    "duration": 11,
    "start_time": "2022-01-25T18:18:42.170Z"
   },
   {
    "duration": 10,
    "start_time": "2022-01-25T18:18:43.498Z"
   },
   {
    "duration": 4,
    "start_time": "2022-01-25T18:18:44.530Z"
   },
   {
    "duration": 10153301,
    "start_time": "2022-01-25T15:29:48.586Z"
   },
   {
    "duration": 4,
    "start_time": "2022-01-25T18:19:02.145Z"
   },
   {
    "duration": 573,
    "start_time": "2022-01-25T18:19:45.914Z"
   },
   {
    "duration": 142,
    "start_time": "2022-01-25T18:19:46.489Z"
   },
   {
    "duration": 16,
    "start_time": "2022-01-25T18:19:46.633Z"
   },
   {
    "duration": 28,
    "start_time": "2022-01-25T18:19:46.651Z"
   },
   {
    "duration": 3,
    "start_time": "2022-01-25T18:19:46.681Z"
   },
   {
    "duration": 24,
    "start_time": "2022-01-25T18:19:46.698Z"
   },
   {
    "duration": 17,
    "start_time": "2022-01-25T18:19:46.723Z"
   },
   {
    "duration": 25,
    "start_time": "2022-01-25T18:19:46.742Z"
   },
   {
    "duration": 29,
    "start_time": "2022-01-25T18:19:46.769Z"
   },
   {
    "duration": 23,
    "start_time": "2022-01-25T18:19:46.800Z"
   },
   {
    "duration": 81,
    "start_time": "2022-01-25T18:19:46.825Z"
   },
   {
    "duration": 62,
    "start_time": "2022-01-25T18:19:46.907Z"
   },
   {
    "duration": 68,
    "start_time": "2022-01-25T18:19:46.971Z"
   },
   {
    "duration": 39,
    "start_time": "2022-01-25T18:19:47.041Z"
   },
   {
    "duration": 16,
    "start_time": "2022-01-25T18:19:47.082Z"
   },
   {
    "duration": 22,
    "start_time": "2022-01-25T18:19:47.100Z"
   },
   {
    "duration": 52,
    "start_time": "2022-01-25T18:19:47.123Z"
   },
   {
    "duration": 23,
    "start_time": "2022-01-25T18:19:47.176Z"
   },
   {
    "duration": 14,
    "start_time": "2022-01-25T18:19:47.201Z"
   },
   {
    "duration": 18,
    "start_time": "2022-01-25T18:19:47.217Z"
   },
   {
    "duration": 16235,
    "start_time": "2022-01-25T18:19:49.445Z"
   },
   {
    "duration": 4,
    "start_time": "2022-01-25T18:20:43.047Z"
   },
   {
    "duration": 4,
    "start_time": "2022-01-25T18:21:41.043Z"
   },
   {
    "duration": 392,
    "start_time": "2022-01-25T18:21:43.371Z"
   },
   {
    "duration": 4,
    "start_time": "2022-01-25T18:36:15.377Z"
   },
   {
    "duration": 338,
    "start_time": "2022-01-25T18:36:27.475Z"
   },
   {
    "duration": 602,
    "start_time": "2022-01-25T18:36:40.079Z"
   },
   {
    "duration": 149,
    "start_time": "2022-01-25T18:36:40.682Z"
   },
   {
    "duration": 18,
    "start_time": "2022-01-25T18:36:40.833Z"
   },
   {
    "duration": 25,
    "start_time": "2022-01-25T18:36:40.854Z"
   },
   {
    "duration": 19,
    "start_time": "2022-01-25T18:36:40.881Z"
   },
   {
    "duration": 26,
    "start_time": "2022-01-25T18:36:40.902Z"
   },
   {
    "duration": 18,
    "start_time": "2022-01-25T18:36:40.930Z"
   },
   {
    "duration": 26,
    "start_time": "2022-01-25T18:36:40.951Z"
   },
   {
    "duration": 31,
    "start_time": "2022-01-25T18:36:40.980Z"
   },
   {
    "duration": 24,
    "start_time": "2022-01-25T18:36:41.013Z"
   },
   {
    "duration": 83,
    "start_time": "2022-01-25T18:36:41.039Z"
   },
   {
    "duration": 85,
    "start_time": "2022-01-25T18:36:41.124Z"
   },
   {
    "duration": 53,
    "start_time": "2022-01-25T18:36:41.210Z"
   },
   {
    "duration": 54,
    "start_time": "2022-01-25T18:36:41.265Z"
   },
   {
    "duration": 5,
    "start_time": "2022-01-25T18:36:41.321Z"
   },
   {
    "duration": 12,
    "start_time": "2022-01-25T18:36:41.327Z"
   },
   {
    "duration": 58,
    "start_time": "2022-01-25T18:36:41.340Z"
   },
   {
    "duration": 11,
    "start_time": "2022-01-25T18:36:41.400Z"
   },
   {
    "duration": 11,
    "start_time": "2022-01-25T18:36:41.413Z"
   },
   {
    "duration": 3,
    "start_time": "2022-01-25T18:36:44.297Z"
   },
   {
    "duration": 357,
    "start_time": "2022-01-25T18:36:45.283Z"
   },
   {
    "duration": 4,
    "start_time": "2022-01-25T18:36:58.743Z"
   },
   {
    "duration": 12,
    "start_time": "2022-01-25T18:36:59.568Z"
   },
   {
    "duration": 4,
    "start_time": "2022-01-25T18:38:22.255Z"
   },
   {
    "duration": 343,
    "start_time": "2022-01-25T18:38:24.311Z"
   },
   {
    "duration": 4,
    "start_time": "2022-01-25T18:38:36.526Z"
   },
   {
    "duration": 10153292,
    "start_time": "2022-01-25T15:49:40.382Z"
   },
   {
    "duration": 10153286,
    "start_time": "2022-01-25T15:49:40.389Z"
   },
   {
    "duration": 234,
    "start_time": "2022-01-25T18:39:06.465Z"
   },
   {
    "duration": 4,
    "start_time": "2022-01-25T18:39:11.403Z"
   },
   {
    "duration": 346,
    "start_time": "2022-01-25T18:39:13.079Z"
   },
   {
    "duration": 554,
    "start_time": "2022-01-25T18:39:22.937Z"
   },
   {
    "duration": 137,
    "start_time": "2022-01-25T18:39:23.493Z"
   },
   {
    "duration": 16,
    "start_time": "2022-01-25T18:39:23.632Z"
   },
   {
    "duration": 25,
    "start_time": "2022-01-25T18:39:23.650Z"
   },
   {
    "duration": 21,
    "start_time": "2022-01-25T18:39:23.677Z"
   },
   {
    "duration": 23,
    "start_time": "2022-01-25T18:39:23.700Z"
   },
   {
    "duration": 4,
    "start_time": "2022-01-25T18:39:23.725Z"
   },
   {
    "duration": 25,
    "start_time": "2022-01-25T18:39:23.731Z"
   },
   {
    "duration": 41,
    "start_time": "2022-01-25T18:39:23.758Z"
   },
   {
    "duration": 23,
    "start_time": "2022-01-25T18:39:23.801Z"
   },
   {
    "duration": 61,
    "start_time": "2022-01-25T18:39:23.825Z"
   },
   {
    "duration": 61,
    "start_time": "2022-01-25T18:39:23.898Z"
   },
   {
    "duration": 66,
    "start_time": "2022-01-25T18:39:23.961Z"
   },
   {
    "duration": 39,
    "start_time": "2022-01-25T18:39:24.029Z"
   },
   {
    "duration": 3,
    "start_time": "2022-01-25T18:39:24.070Z"
   },
   {
    "duration": 26,
    "start_time": "2022-01-25T18:39:24.074Z"
   },
   {
    "duration": 41,
    "start_time": "2022-01-25T18:39:24.102Z"
   },
   {
    "duration": 10,
    "start_time": "2022-01-25T18:39:24.145Z"
   },
   {
    "duration": 9,
    "start_time": "2022-01-25T18:39:24.157Z"
   },
   {
    "duration": 4,
    "start_time": "2022-01-25T18:39:26.559Z"
   },
   {
    "duration": 16364,
    "start_time": "2022-01-25T18:39:27.634Z"
   },
   {
    "duration": 5,
    "start_time": "2022-01-25T18:41:02.768Z"
   },
   {
    "duration": 5,
    "start_time": "2022-01-25T23:51:01.755Z"
   },
   {
    "duration": 614,
    "start_time": "2022-01-25T23:51:07.878Z"
   },
   {
    "duration": 146,
    "start_time": "2022-01-25T23:51:08.493Z"
   },
   {
    "duration": 16,
    "start_time": "2022-01-25T23:51:08.641Z"
   },
   {
    "duration": 38,
    "start_time": "2022-01-25T23:51:08.659Z"
   },
   {
    "duration": 4,
    "start_time": "2022-01-25T23:51:08.699Z"
   },
   {
    "duration": 27,
    "start_time": "2022-01-25T23:51:08.704Z"
   },
   {
    "duration": 4,
    "start_time": "2022-01-25T23:51:08.733Z"
   },
   {
    "duration": 26,
    "start_time": "2022-01-25T23:51:08.740Z"
   },
   {
    "duration": 47,
    "start_time": "2022-01-25T23:51:08.768Z"
   },
   {
    "duration": 24,
    "start_time": "2022-01-25T23:51:08.817Z"
   },
   {
    "duration": 88,
    "start_time": "2022-01-25T23:51:08.843Z"
   },
   {
    "duration": 86,
    "start_time": "2022-01-25T23:51:08.933Z"
   },
   {
    "duration": 55,
    "start_time": "2022-01-25T23:51:09.021Z"
   },
   {
    "duration": 54,
    "start_time": "2022-01-25T23:51:09.078Z"
   },
   {
    "duration": 4,
    "start_time": "2022-01-25T23:51:09.134Z"
   },
   {
    "duration": 11,
    "start_time": "2022-01-25T23:51:09.140Z"
   },
   {
    "duration": 60,
    "start_time": "2022-01-25T23:51:09.153Z"
   },
   {
    "duration": 11,
    "start_time": "2022-01-25T23:51:09.215Z"
   },
   {
    "duration": 11,
    "start_time": "2022-01-25T23:51:09.228Z"
   },
   {
    "duration": 4,
    "start_time": "2022-01-25T23:51:11.823Z"
   },
   {
    "duration": 225,
    "start_time": "2022-01-25T23:51:16.383Z"
   },
   {
    "duration": 3,
    "start_time": "2022-01-25T23:51:26.758Z"
   },
   {
    "duration": 17,
    "start_time": "2022-01-25T23:51:30.856Z"
   },
   {
    "duration": 14,
    "start_time": "2022-01-25T23:52:16.103Z"
   },
   {
    "duration": 16,
    "start_time": "2022-01-25T23:52:44.574Z"
   },
   {
    "duration": 3,
    "start_time": "2022-01-25T23:52:44.687Z"
   },
   {
    "duration": 15,
    "start_time": "2022-01-25T23:52:56.422Z"
   },
   {
    "duration": 17,
    "start_time": "2022-01-25T23:53:08.400Z"
   },
   {
    "duration": 15,
    "start_time": "2022-01-25T23:53:18.302Z"
   },
   {
    "duration": 63,
    "start_time": "2022-01-25T23:57:05.156Z"
   },
   {
    "duration": 176,
    "start_time": "2022-01-25T23:57:23.628Z"
   },
   {
    "duration": 4,
    "start_time": "2022-01-25T23:57:42.596Z"
   },
   {
    "duration": 9,
    "start_time": "2022-01-25T23:57:52.981Z"
   },
   {
    "duration": 66,
    "start_time": "2022-01-26T00:29:25.095Z"
   },
   {
    "duration": 65,
    "start_time": "2022-01-26T00:30:09.295Z"
   },
   {
    "duration": 59,
    "start_time": "2022-01-26T00:30:53.078Z"
   },
   {
    "duration": 179,
    "start_time": "2022-01-26T00:31:17.489Z"
   },
   {
    "duration": 2,
    "start_time": "2022-01-26T00:31:30.111Z"
   },
   {
    "duration": 153,
    "start_time": "2022-01-26T00:31:30.115Z"
   },
   {
    "duration": 10,
    "start_time": "2022-01-26T00:31:30.270Z"
   },
   {
    "duration": 32,
    "start_time": "2022-01-26T00:31:30.282Z"
   },
   {
    "duration": 13,
    "start_time": "2022-01-26T00:31:30.315Z"
   },
   {
    "duration": 26,
    "start_time": "2022-01-26T00:31:30.330Z"
   },
   {
    "duration": 4,
    "start_time": "2022-01-26T00:31:30.357Z"
   },
   {
    "duration": 36,
    "start_time": "2022-01-26T00:31:30.363Z"
   },
   {
    "duration": 18,
    "start_time": "2022-01-26T00:31:30.401Z"
   },
   {
    "duration": 22,
    "start_time": "2022-01-26T00:31:30.421Z"
   },
   {
    "duration": 73,
    "start_time": "2022-01-26T00:31:30.444Z"
   },
   {
    "duration": 61,
    "start_time": "2022-01-26T00:31:30.519Z"
   },
   {
    "duration": 62,
    "start_time": "2022-01-26T00:31:30.582Z"
   },
   {
    "duration": 51,
    "start_time": "2022-01-26T00:31:30.646Z"
   },
   {
    "duration": 9,
    "start_time": "2022-01-26T00:31:30.699Z"
   },
   {
    "duration": 38,
    "start_time": "2022-01-26T00:31:30.710Z"
   },
   {
    "duration": 49,
    "start_time": "2022-01-26T00:31:30.750Z"
   },
   {
    "duration": 11,
    "start_time": "2022-01-26T00:31:30.801Z"
   },
   {
    "duration": 21,
    "start_time": "2022-01-26T00:31:30.814Z"
   },
   {
    "duration": 4,
    "start_time": "2022-01-26T00:31:30.837Z"
   },
   {
    "duration": 48,
    "start_time": "2022-01-26T00:31:30.843Z"
   },
   {
    "duration": 29,
    "start_time": "2022-01-26T00:31:30.893Z"
   },
   {
    "duration": 34,
    "start_time": "2022-01-26T00:31:30.925Z"
   },
   {
    "duration": 31,
    "start_time": "2022-01-26T00:31:30.960Z"
   },
   {
    "duration": 44,
    "start_time": "2022-01-26T00:31:30.993Z"
   },
   {
    "duration": 23,
    "start_time": "2022-01-26T00:31:31.039Z"
   },
   {
    "duration": 16,
    "start_time": "2022-01-26T00:31:31.064Z"
   },
   {
    "duration": 18,
    "start_time": "2022-01-26T00:31:31.081Z"
   },
   {
    "duration": 13,
    "start_time": "2022-01-26T00:31:31.101Z"
   },
   {
    "duration": 66,
    "start_time": "2022-01-26T00:31:34.654Z"
   },
   {
    "duration": 61,
    "start_time": "2022-01-26T00:32:01.897Z"
   },
   {
    "duration": 4,
    "start_time": "2022-01-26T00:32:20.765Z"
   },
   {
    "duration": 367,
    "start_time": "2022-01-26T00:32:23.462Z"
   },
   {
    "duration": 5,
    "start_time": "2022-01-26T00:33:15.176Z"
   },
   {
    "duration": 414,
    "start_time": "2022-01-26T00:33:17.638Z"
   },
   {
    "duration": 4,
    "start_time": "2022-01-26T00:34:18.183Z"
   },
   {
    "duration": 367,
    "start_time": "2022-01-26T00:34:20.829Z"
   },
   {
    "duration": 4,
    "start_time": "2022-01-26T00:35:49.347Z"
   },
   {
    "duration": 364,
    "start_time": "2022-01-26T00:35:55.701Z"
   },
   {
    "duration": 4,
    "start_time": "2022-01-26T00:36:45.618Z"
   },
   {
    "duration": 360,
    "start_time": "2022-01-26T00:36:47.825Z"
   },
   {
    "duration": 5,
    "start_time": "2022-01-26T00:38:21.593Z"
   },
   {
    "duration": 16,
    "start_time": "2022-01-26T00:38:37.036Z"
   },
   {
    "duration": 15,
    "start_time": "2022-01-26T00:38:37.977Z"
   },
   {
    "duration": 13,
    "start_time": "2022-01-26T00:38:51.682Z"
   },
   {
    "duration": 23,
    "start_time": "2022-01-26T00:39:03.114Z"
   },
   {
    "duration": 4,
    "start_time": "2022-01-26T00:39:19.538Z"
   },
   {
    "duration": 637,
    "start_time": "2022-01-26T09:30:47.676Z"
   },
   {
    "duration": 160,
    "start_time": "2022-01-26T09:30:48.315Z"
   },
   {
    "duration": 17,
    "start_time": "2022-01-26T09:30:48.477Z"
   },
   {
    "duration": 49,
    "start_time": "2022-01-26T09:30:48.496Z"
   },
   {
    "duration": 44,
    "start_time": "2022-01-26T09:30:48.547Z"
   },
   {
    "duration": 47,
    "start_time": "2022-01-26T09:30:48.593Z"
   },
   {
    "duration": 39,
    "start_time": "2022-01-26T09:30:48.642Z"
   },
   {
    "duration": 48,
    "start_time": "2022-01-26T09:30:48.683Z"
   },
   {
    "duration": 45,
    "start_time": "2022-01-26T09:30:48.733Z"
   },
   {
    "duration": 49,
    "start_time": "2022-01-26T09:30:48.780Z"
   },
   {
    "duration": 98,
    "start_time": "2022-01-26T09:30:48.831Z"
   },
   {
    "duration": 86,
    "start_time": "2022-01-26T09:30:48.931Z"
   },
   {
    "duration": 69,
    "start_time": "2022-01-26T09:30:49.018Z"
   },
   {
    "duration": 44,
    "start_time": "2022-01-26T09:30:49.089Z"
   },
   {
    "duration": 19,
    "start_time": "2022-01-26T09:30:49.135Z"
   },
   {
    "duration": 32,
    "start_time": "2022-01-26T09:30:49.161Z"
   },
   {
    "duration": 68,
    "start_time": "2022-01-26T09:30:49.195Z"
   },
   {
    "duration": 25,
    "start_time": "2022-01-26T09:30:49.265Z"
   },
   {
    "duration": 18,
    "start_time": "2022-01-26T09:30:49.292Z"
   },
   {
    "duration": 24,
    "start_time": "2022-01-26T09:30:49.312Z"
   },
   {
    "duration": 55,
    "start_time": "2022-01-26T09:30:49.338Z"
   },
   {
    "duration": 32,
    "start_time": "2022-01-26T09:30:49.396Z"
   },
   {
    "duration": 43,
    "start_time": "2022-01-26T09:30:49.431Z"
   },
   {
    "duration": 32,
    "start_time": "2022-01-26T09:30:49.477Z"
   },
   {
    "duration": 34,
    "start_time": "2022-01-26T09:30:49.511Z"
   },
   {
    "duration": 38,
    "start_time": "2022-01-26T09:30:49.548Z"
   },
   {
    "duration": 20,
    "start_time": "2022-01-26T09:30:49.588Z"
   },
   {
    "duration": 41,
    "start_time": "2022-01-26T09:30:49.610Z"
   },
   {
    "duration": 42,
    "start_time": "2022-01-26T09:30:49.653Z"
   },
   {
    "duration": 25,
    "start_time": "2022-01-26T09:30:49.697Z"
   },
   {
    "duration": 723,
    "start_time": "2022-01-26T09:30:49.725Z"
   },
   {
    "duration": 10152653,
    "start_time": "2022-01-26T06:41:37.797Z"
   },
   {
    "duration": 10152648,
    "start_time": "2022-01-26T06:41:37.804Z"
   },
   {
    "duration": 10152646,
    "start_time": "2022-01-26T06:41:37.807Z"
   },
   {
    "duration": 10152645,
    "start_time": "2022-01-26T06:41:37.809Z"
   },
   {
    "duration": 10152645,
    "start_time": "2022-01-26T06:41:37.811Z"
   },
   {
    "duration": 10152643,
    "start_time": "2022-01-26T06:41:37.814Z"
   },
   {
    "duration": 10152642,
    "start_time": "2022-01-26T06:41:37.816Z"
   },
   {
    "duration": 4,
    "start_time": "2022-01-26T09:31:06.453Z"
   },
   {
    "duration": 530,
    "start_time": "2022-01-26T09:31:09.582Z"
   },
   {
    "duration": 18,
    "start_time": "2022-01-26T09:34:55.755Z"
   },
   {
    "duration": 17,
    "start_time": "2022-01-26T09:34:56.115Z"
   },
   {
    "duration": 6,
    "start_time": "2022-01-26T09:34:57.099Z"
   },
   {
    "duration": 652,
    "start_time": "2022-01-26T09:34:58.051Z"
   },
   {
    "duration": 636,
    "start_time": "2022-01-26T09:35:38.706Z"
   },
   {
    "duration": 7,
    "start_time": "2022-01-26T09:38:47.504Z"
   },
   {
    "duration": 752,
    "start_time": "2022-01-26T09:38:50.672Z"
   },
   {
    "duration": 4,
    "start_time": "2022-01-26T09:40:28.103Z"
   },
   {
    "duration": 496,
    "start_time": "2022-01-26T09:40:29.246Z"
   },
   {
    "duration": 4,
    "start_time": "2022-01-26T09:44:31.549Z"
   },
   {
    "duration": 514,
    "start_time": "2022-01-26T09:44:32.668Z"
   },
   {
    "duration": 5,
    "start_time": "2022-01-26T09:46:04.859Z"
   },
   {
    "duration": 498,
    "start_time": "2022-01-26T09:46:05.779Z"
   },
   {
    "duration": 4,
    "start_time": "2022-01-26T09:46:42.349Z"
   },
   {
    "duration": 20,
    "start_time": "2022-01-26T09:46:43.251Z"
   },
   {
    "duration": 4,
    "start_time": "2022-01-26T09:48:05.977Z"
   },
   {
    "duration": 709,
    "start_time": "2022-01-26T09:48:06.738Z"
   },
   {
    "duration": 4,
    "start_time": "2022-01-26T09:48:48.234Z"
   },
   {
    "duration": 35,
    "start_time": "2022-01-26T09:48:49.129Z"
   },
   {
    "duration": 4,
    "start_time": "2022-01-26T09:49:44.209Z"
   },
   {
    "duration": 26,
    "start_time": "2022-01-26T09:49:44.993Z"
   },
   {
    "duration": 7,
    "start_time": "2022-01-26T09:50:17.480Z"
   },
   {
    "duration": 24,
    "start_time": "2022-01-26T09:50:18.425Z"
   },
   {
    "duration": 265,
    "start_time": "2022-01-26T09:50:48.737Z"
   },
   {
    "duration": 20,
    "start_time": "2022-01-26T09:51:07.496Z"
   },
   {
    "duration": 23,
    "start_time": "2022-01-26T09:51:16.265Z"
   },
   {
    "duration": 21,
    "start_time": "2022-01-26T09:51:21.240Z"
   },
   {
    "duration": 15,
    "start_time": "2022-01-26T09:51:35.704Z"
   },
   {
    "duration": 20,
    "start_time": "2022-01-26T09:52:29.728Z"
   },
   {
    "duration": 15,
    "start_time": "2022-01-26T09:52:56.759Z"
   },
   {
    "duration": 313,
    "start_time": "2022-01-26T10:23:46.029Z"
   },
   {
    "duration": 29,
    "start_time": "2022-01-26T10:24:04.236Z"
   },
   {
    "duration": 9,
    "start_time": "2022-01-26T10:24:23.635Z"
   },
   {
    "duration": 25,
    "start_time": "2022-01-26T10:25:02.116Z"
   },
   {
    "duration": 8,
    "start_time": "2022-01-26T10:25:03.004Z"
   },
   {
    "duration": 250,
    "start_time": "2022-01-26T10:25:31.796Z"
   },
   {
    "duration": 1411,
    "start_time": "2022-01-26T10:25:37.923Z"
   },
   {
    "duration": 246,
    "start_time": "2022-01-26T10:25:57.323Z"
   },
   {
    "duration": 27,
    "start_time": "2022-01-26T10:26:02.170Z"
   },
   {
    "duration": 10,
    "start_time": "2022-01-26T10:26:03.803Z"
   },
   {
    "duration": 18,
    "start_time": "2022-01-26T10:26:42.666Z"
   },
   {
    "duration": 9,
    "start_time": "2022-01-26T10:26:58.546Z"
   },
   {
    "duration": 254,
    "start_time": "2022-01-26T10:28:36.833Z"
   },
   {
    "duration": 9,
    "start_time": "2022-01-26T10:28:43.666Z"
   },
   {
    "duration": 6,
    "start_time": "2022-01-26T10:28:44.888Z"
   },
   {
    "duration": 7,
    "start_time": "2022-01-26T10:29:03.896Z"
   },
   {
    "duration": 7,
    "start_time": "2022-01-26T10:29:04.425Z"
   },
   {
    "duration": 757,
    "start_time": "2022-02-05T14:01:28.282Z"
   },
   {
    "duration": 259,
    "start_time": "2022-02-05T14:01:29.043Z"
   },
   {
    "duration": 45,
    "start_time": "2022-02-05T14:01:29.306Z"
   },
   {
    "duration": 102,
    "start_time": "2022-02-05T14:01:29.353Z"
   },
   {
    "duration": 6,
    "start_time": "2022-02-05T14:01:29.458Z"
   },
   {
    "duration": 35,
    "start_time": "2022-02-05T14:01:29.466Z"
   },
   {
    "duration": 34,
    "start_time": "2022-02-05T14:01:29.504Z"
   },
   {
    "duration": 38,
    "start_time": "2022-02-05T14:01:29.540Z"
   },
   {
    "duration": 28,
    "start_time": "2022-02-05T14:01:29.582Z"
   },
   {
    "duration": 48,
    "start_time": "2022-02-05T14:01:29.613Z"
   },
   {
    "duration": 105,
    "start_time": "2022-02-05T14:01:29.664Z"
   },
   {
    "duration": 126,
    "start_time": "2022-02-05T14:01:29.772Z"
   },
   {
    "duration": 100,
    "start_time": "2022-02-05T14:01:29.901Z"
   },
   {
    "duration": 76,
    "start_time": "2022-02-05T14:01:30.005Z"
   },
   {
    "duration": 4,
    "start_time": "2022-02-05T14:01:30.084Z"
   },
   {
    "duration": 48,
    "start_time": "2022-02-05T14:01:30.090Z"
   },
   {
    "duration": 110,
    "start_time": "2022-02-05T14:01:30.140Z"
   },
   {
    "duration": 15,
    "start_time": "2022-02-05T14:01:30.253Z"
   },
   {
    "duration": 76,
    "start_time": "2022-02-05T14:01:30.271Z"
   },
   {
    "duration": 6,
    "start_time": "2022-02-05T14:01:30.349Z"
   },
   {
    "duration": 85,
    "start_time": "2022-02-05T14:01:30.358Z"
   },
   {
    "duration": 29,
    "start_time": "2022-02-05T14:01:30.446Z"
   },
   {
    "duration": 28,
    "start_time": "2022-02-05T14:01:30.534Z"
   },
   {
    "duration": 75,
    "start_time": "2022-02-05T14:01:30.565Z"
   },
   {
    "duration": 31,
    "start_time": "2022-02-05T14:01:30.643Z"
   },
   {
    "duration": 29,
    "start_time": "2022-02-05T14:01:30.732Z"
   },
   {
    "duration": 71,
    "start_time": "2022-02-05T14:01:30.769Z"
   },
   {
    "duration": 23,
    "start_time": "2022-02-05T14:01:30.843Z"
   },
   {
    "duration": 75,
    "start_time": "2022-02-05T14:01:30.869Z"
   },
   {
    "duration": 8,
    "start_time": "2022-02-05T14:01:30.948Z"
   },
   {
    "duration": 95,
    "start_time": "2022-02-05T14:01:30.960Z"
   },
   {
    "duration": 79,
    "start_time": "2022-02-05T14:01:31.058Z"
   },
   {
    "duration": 37,
    "start_time": "2022-02-05T14:01:31.140Z"
   },
   {
    "duration": 54,
    "start_time": "2022-02-05T14:01:31.180Z"
   },
   {
    "duration": 17,
    "start_time": "2022-02-05T14:01:31.237Z"
   },
   {
    "duration": 8,
    "start_time": "2022-02-05T14:01:31.257Z"
   },
   {
    "duration": 14,
    "start_time": "2022-02-05T14:01:31.268Z"
   },
   {
    "duration": 7,
    "start_time": "2022-02-05T14:01:31.285Z"
   },
   {
    "duration": 6,
    "start_time": "2022-02-05T14:29:28.903Z"
   },
   {
    "duration": 12,
    "start_time": "2022-02-05T14:29:39.424Z"
   },
   {
    "duration": 736,
    "start_time": "2022-02-05T14:32:38.864Z"
   },
   {
    "duration": 178,
    "start_time": "2022-02-05T14:32:39.603Z"
   },
   {
    "duration": 26,
    "start_time": "2022-02-05T14:32:39.785Z"
   },
   {
    "duration": 35,
    "start_time": "2022-02-05T14:32:39.833Z"
   },
   {
    "duration": 5,
    "start_time": "2022-02-05T14:32:39.870Z"
   },
   {
    "duration": 55,
    "start_time": "2022-02-05T14:32:39.877Z"
   },
   {
    "duration": 6,
    "start_time": "2022-02-05T14:32:39.934Z"
   },
   {
    "duration": 34,
    "start_time": "2022-02-05T14:32:39.943Z"
   },
   {
    "duration": 21,
    "start_time": "2022-02-05T14:32:39.980Z"
   },
   {
    "duration": 56,
    "start_time": "2022-02-05T14:32:40.003Z"
   },
   {
    "duration": 103,
    "start_time": "2022-02-05T14:32:40.061Z"
   },
   {
    "duration": 102,
    "start_time": "2022-02-05T14:32:40.167Z"
   },
   {
    "duration": 84,
    "start_time": "2022-02-05T14:32:40.271Z"
   },
   {
    "duration": 74,
    "start_time": "2022-02-05T14:32:40.359Z"
   },
   {
    "duration": 4,
    "start_time": "2022-02-05T14:32:40.436Z"
   },
   {
    "duration": 16,
    "start_time": "2022-02-05T14:32:40.442Z"
   },
   {
    "duration": 79,
    "start_time": "2022-02-05T14:32:40.460Z"
   },
   {
    "duration": 14,
    "start_time": "2022-02-05T14:32:40.541Z"
   },
   {
    "duration": 17,
    "start_time": "2022-02-05T14:32:40.557Z"
   },
   {
    "duration": 8,
    "start_time": "2022-02-05T14:32:40.576Z"
   },
   {
    "duration": 54,
    "start_time": "2022-02-05T14:32:40.586Z"
   },
   {
    "duration": 18,
    "start_time": "2022-02-05T14:32:40.643Z"
   },
   {
    "duration": 19,
    "start_time": "2022-02-05T14:32:40.668Z"
   },
   {
    "duration": 51,
    "start_time": "2022-02-05T14:32:40.690Z"
   },
   {
    "duration": 21,
    "start_time": "2022-02-05T14:32:40.744Z"
   },
   {
    "duration": 19,
    "start_time": "2022-02-05T14:32:40.768Z"
   },
   {
    "duration": 48,
    "start_time": "2022-02-05T14:32:40.789Z"
   },
   {
    "duration": 16,
    "start_time": "2022-02-05T14:32:40.839Z"
   },
   {
    "duration": 11,
    "start_time": "2022-02-05T14:32:40.858Z"
   },
   {
    "duration": 6,
    "start_time": "2022-02-05T14:32:40.871Z"
   },
   {
    "duration": 58,
    "start_time": "2022-02-05T14:32:40.879Z"
   },
   {
    "duration": 17,
    "start_time": "2022-02-05T14:32:40.939Z"
   },
   {
    "duration": 23,
    "start_time": "2022-02-05T14:32:40.958Z"
   },
   {
    "duration": 48,
    "start_time": "2022-02-05T14:32:40.984Z"
   },
   {
    "duration": 11,
    "start_time": "2022-02-05T14:32:41.034Z"
   },
   {
    "duration": 6,
    "start_time": "2022-02-05T14:32:41.047Z"
   },
   {
    "duration": 9,
    "start_time": "2022-02-05T14:32:41.056Z"
   },
   {
    "duration": 6,
    "start_time": "2022-02-05T14:32:41.068Z"
   },
   {
    "duration": 809,
    "start_time": "2022-02-07T00:08:35.526Z"
   },
   {
    "duration": 187,
    "start_time": "2022-02-07T00:08:36.338Z"
   },
   {
    "duration": 41,
    "start_time": "2022-02-07T00:08:36.528Z"
   },
   {
    "duration": 33,
    "start_time": "2022-02-07T00:08:36.572Z"
   },
   {
    "duration": 6,
    "start_time": "2022-02-07T00:08:36.607Z"
   },
   {
    "duration": 55,
    "start_time": "2022-02-07T00:08:36.615Z"
   },
   {
    "duration": 5,
    "start_time": "2022-02-07T00:08:36.673Z"
   },
   {
    "duration": 34,
    "start_time": "2022-02-07T00:08:36.682Z"
   },
   {
    "duration": 50,
    "start_time": "2022-02-07T00:08:36.719Z"
   },
   {
    "duration": 32,
    "start_time": "2022-02-07T00:08:36.772Z"
   },
   {
    "duration": 106,
    "start_time": "2022-02-07T00:08:36.807Z"
   },
   {
    "duration": 108,
    "start_time": "2022-02-07T00:08:36.915Z"
   },
   {
    "duration": 93,
    "start_time": "2022-02-07T00:08:37.026Z"
   },
   {
    "duration": 68,
    "start_time": "2022-02-07T00:08:37.121Z"
   },
   {
    "duration": 4,
    "start_time": "2022-02-07T00:08:37.192Z"
   },
   {
    "duration": 19,
    "start_time": "2022-02-07T00:08:37.198Z"
   },
   {
    "duration": 80,
    "start_time": "2022-02-07T00:08:37.220Z"
   },
   {
    "duration": 14,
    "start_time": "2022-02-07T00:08:37.303Z"
   },
   {
    "duration": 14,
    "start_time": "2022-02-07T00:08:37.320Z"
   },
   {
    "duration": 6,
    "start_time": "2022-02-07T00:08:37.368Z"
   },
   {
    "duration": 34,
    "start_time": "2022-02-07T00:08:37.376Z"
   },
   {
    "duration": 18,
    "start_time": "2022-02-07T00:08:37.412Z"
   },
   {
    "duration": 51,
    "start_time": "2022-02-07T00:08:37.435Z"
   },
   {
    "duration": 18,
    "start_time": "2022-02-07T00:08:37.489Z"
   },
   {
    "duration": 33,
    "start_time": "2022-02-07T00:08:37.510Z"
   },
   {
    "duration": 20,
    "start_time": "2022-02-07T00:08:37.570Z"
   },
   {
    "duration": 12,
    "start_time": "2022-02-07T00:08:37.592Z"
   },
   {
    "duration": 18,
    "start_time": "2022-02-07T00:08:37.607Z"
   },
   {
    "duration": 48,
    "start_time": "2022-02-07T00:08:37.628Z"
   },
   {
    "duration": 17,
    "start_time": "2022-02-07T00:08:37.678Z"
   },
   {
    "duration": 25,
    "start_time": "2022-02-07T00:08:37.697Z"
   },
   {
    "duration": 45,
    "start_time": "2022-02-07T00:08:37.726Z"
   },
   {
    "duration": 24,
    "start_time": "2022-02-07T00:08:37.773Z"
   },
   {
    "duration": 17,
    "start_time": "2022-02-07T00:08:37.800Z"
   },
   {
    "duration": 51,
    "start_time": "2022-02-07T00:08:37.819Z"
   },
   {
    "duration": 7,
    "start_time": "2022-02-07T00:08:37.872Z"
   },
   {
    "duration": 10,
    "start_time": "2022-02-07T00:08:37.881Z"
   },
   {
    "duration": 5,
    "start_time": "2022-02-07T00:08:37.894Z"
   }
  ],
  "colab": {
   "collapsed_sections": [
    "E0vqbgi9ay0H",
    "VUC88oWjTJw2"
   ],
   "name": "yandex_music_project_2021.2.ipynb",
   "provenance": []
  },
  "kernelspec": {
   "display_name": "Python 3",
   "language": "python",
   "name": "python3"
  },
  "language_info": {
   "codemirror_mode": {
    "name": "ipython",
    "version": 3
   },
   "file_extension": ".py",
   "mimetype": "text/x-python",
   "name": "python",
   "nbconvert_exporter": "python",
   "pygments_lexer": "ipython3",
   "version": "3.8.5"
  },
  "toc": {
   "base_numbering": 1,
   "nav_menu": {},
   "number_sections": true,
   "sideBar": true,
   "skip_h1_title": true,
   "title_cell": "Table of Contents",
   "title_sidebar": "Contents",
   "toc_cell": false,
   "toc_position": {},
   "toc_section_display": true,
   "toc_window_display": false
  }
 },
 "nbformat": 4,
 "nbformat_minor": 1
}
